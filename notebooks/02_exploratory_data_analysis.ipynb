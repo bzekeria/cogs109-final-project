{
 "cells": [
  {
   "cell_type": "markdown",
   "id": "694a4a58",
   "metadata": {},
   "source": [
    "# Exploratory Data Analysis\n",
    "\n",
    "- some ideas\n",
    "    - [word cloud](https://pypi.org/project/wordcloud/)\n",
    "    - categories distribution visualization \n",
    "    - category-specific distribution (word frequency) visualization\n",
    "    - [topic modeling (nlp)](https://towardsdatascience.com/topic-modeling-and-latent-dirichlet-allocation-in-python-9bf156893c24)\n",
    "        - can enhance our project by providing a deeper understanding of the underlying themes and patterns\n",
    "        \n",
    "**goal: highlight any important patterns, insights, or limitations observed in the data**"
   ]
  },
  {
   "cell_type": "code",
   "execution_count": 1,
   "id": "1442ae75",
   "metadata": {},
   "outputs": [],
   "source": [
    "import pandas as pd\n",
    "import numpy as np\n",
    "import matplotlib.pyplot as plt\n",
    "%matplotlib inline\n",
    "\n",
    "import re\n",
    "\n",
    "# notebook configurations\n",
    "pd.options.display.max_colwidth = 1000\n",
    "\n",
    "import warnings\n",
    "warnings.filterwarnings('ignore')"
   ]
  },
  {
   "cell_type": "code",
   "execution_count": 2,
   "id": "3b5e0df0",
   "metadata": {},
   "outputs": [],
   "source": [
    "df = pd.read_csv('data/amazon_products_sampled_cleaned.csv')"
   ]
  },
  {
   "cell_type": "markdown",
   "id": "e636d500",
   "metadata": {},
   "source": [
    "## Dataset Inforamtion"
   ]
  },
  {
   "cell_type": "code",
   "execution_count": 3,
   "id": "a8ca6aa4",
   "metadata": {},
   "outputs": [
    {
     "name": "stdout",
     "output_type": "stream",
     "text": [
      "<class 'pandas.core.frame.DataFrame'>\n",
      "RangeIndex: 77184 entries, 0 to 77183\n",
      "Data columns (total 2 columns):\n",
      " #   Column         Non-Null Count  Dtype \n",
      "---  ------         --------------  ----- \n",
      " 0   name           77177 non-null  object\n",
      " 1   main_category  77184 non-null  object\n",
      "dtypes: object(2)\n",
      "memory usage: 1.2+ MB\n"
     ]
    }
   ],
   "source": [
    "df.info()"
   ]
  },
  {
   "cell_type": "code",
   "execution_count": 4,
   "id": "5982fdad",
   "metadata": {},
   "outputs": [
    {
     "data": {
      "text/html": [
       "<div>\n",
       "<style scoped>\n",
       "    .dataframe tbody tr th:only-of-type {\n",
       "        vertical-align: middle;\n",
       "    }\n",
       "\n",
       "    .dataframe tbody tr th {\n",
       "        vertical-align: top;\n",
       "    }\n",
       "\n",
       "    .dataframe thead th {\n",
       "        text-align: right;\n",
       "    }\n",
       "</style>\n",
       "<table border=\"1\" class=\"dataframe\">\n",
       "  <thead>\n",
       "    <tr style=\"text-align: right;\">\n",
       "      <th></th>\n",
       "      <th>count</th>\n",
       "      <th>unique</th>\n",
       "      <th>top</th>\n",
       "      <th>freq</th>\n",
       "    </tr>\n",
       "  </thead>\n",
       "  <tbody>\n",
       "    <tr>\n",
       "      <th>name</th>\n",
       "      <td>77177</td>\n",
       "      <td>74165</td>\n",
       "      <td>Walktrendy Women  Ballet Flat</td>\n",
       "      <td>107</td>\n",
       "    </tr>\n",
       "    <tr>\n",
       "      <th>main_category</th>\n",
       "      <td>77184</td>\n",
       "      <td>20</td>\n",
       "      <td>accessories</td>\n",
       "      <td>4500</td>\n",
       "    </tr>\n",
       "  </tbody>\n",
       "</table>\n",
       "</div>"
      ],
      "text/plain": [
       "               count unique                            top  freq\n",
       "name           77177  74165  Walktrendy Women  Ballet Flat   107\n",
       "main_category  77184     20                    accessories  4500"
      ]
     },
     "execution_count": 4,
     "metadata": {},
     "output_type": "execute_result"
    }
   ],
   "source": [
    "df.describe().T"
   ]
  },
  {
   "cell_type": "markdown",
   "id": "36770cd6",
   "metadata": {},
   "source": [
    "## Data Visualization"
   ]
  }
 ],
 "metadata": {
  "kernelspec": {
   "display_name": "Python 3 (clean)",
   "language": "python",
   "name": "python3_clean"
  },
  "language_info": {
   "codemirror_mode": {
    "name": "ipython",
    "version": 3
   },
   "file_extension": ".py",
   "mimetype": "text/x-python",
   "name": "python",
   "nbconvert_exporter": "python",
   "pygments_lexer": "ipython3",
   "version": "3.9.5"
  }
 },
 "nbformat": 4,
 "nbformat_minor": 5
}
