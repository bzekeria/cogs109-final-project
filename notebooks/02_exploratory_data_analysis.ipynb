{
 "cells": [
  {
   "cell_type": "markdown",
   "id": "694a4a58",
   "metadata": {},
   "source": [
    "# Exploratory Data Analysis\n",
    "\n",
    "- some ideas\n",
    "    - [word cloud](https://pypi.org/project/wordcloud/)\n",
    "    - categories distribution visualization \n",
    "    - category-specific distribution (word frequency) visualization\n",
    "    - [topic modeling (nlp)](https://towardsdatascience.com/topic-modeling-and-latent-dirichlet-allocation-in-python-9bf156893c24)\n",
    "        - can enhance our project by providing a deeper understanding of the underlying themes and patterns\n",
    "        \n",
    "**goal: highlight any important patterns, insights, or limitations observed in the data**"
   ]
  },
  {
   "cell_type": "code",
   "execution_count": 13,
   "id": "1442ae75",
   "metadata": {},
   "outputs": [],
   "source": [
    "import pandas as pd\n",
    "import numpy as np\n",
    "import matplotlib.pyplot as plt\n",
    "%matplotlib inline\n",
    "import seaborn as sns\n",
    "from wordcloud import WordCloud\n",
    "\n",
    "import re\n",
    "\n",
    "# notebook configurations\n",
    "pd.options.display.max_colwidth = 1000\n",
    "\n",
    "import warnings\n",
    "warnings.filterwarnings('ignore')"
   ]
  },
  {
   "cell_type": "code",
   "execution_count": 2,
   "id": "3b5e0df0",
   "metadata": {},
   "outputs": [
    {
     "data": {
      "text/html": [
       "<div>\n",
       "<style scoped>\n",
       "    .dataframe tbody tr th:only-of-type {\n",
       "        vertical-align: middle;\n",
       "    }\n",
       "\n",
       "    .dataframe tbody tr th {\n",
       "        vertical-align: top;\n",
       "    }\n",
       "\n",
       "    .dataframe thead th {\n",
       "        text-align: right;\n",
       "    }\n",
       "</style>\n",
       "<table border=\"1\" class=\"dataframe\">\n",
       "  <thead>\n",
       "    <tr style=\"text-align: right;\">\n",
       "      <th></th>\n",
       "      <th>name</th>\n",
       "      <th>main_category</th>\n",
       "    </tr>\n",
       "  </thead>\n",
       "  <tbody>\n",
       "    <tr>\n",
       "      <th>0</th>\n",
       "      <td>Caprese ZOLA women  Satchel YELLOW</td>\n",
       "      <td>accessories</td>\n",
       "    </tr>\n",
       "    <tr>\n",
       "      <th>1</th>\n",
       "      <td>Fastrack Brown Leather Men  Wallet</td>\n",
       "      <td>accessories</td>\n",
       "    </tr>\n",
       "    <tr>\n",
       "      <th>2</th>\n",
       "      <td>TEKZIE Butterfly Colourful Combo Set Watch Girls Women</td>\n",
       "      <td>accessories</td>\n",
       "    </tr>\n",
       "    <tr>\n",
       "      <th>3</th>\n",
       "      <td>Sorellaz Womens Rose Gold Open Branch Ring</td>\n",
       "      <td>accessories</td>\n",
       "    </tr>\n",
       "    <tr>\n",
       "      <th>4</th>\n",
       "      <td>Astroghar Evil Eye Pendant Protection Prosperity Men Women</td>\n",
       "      <td>accessories</td>\n",
       "    </tr>\n",
       "    <tr>\n",
       "      <th>...</th>\n",
       "      <td>...</td>\n",
       "      <td>...</td>\n",
       "    </tr>\n",
       "    <tr>\n",
       "      <th>77179</th>\n",
       "      <td>Cleo Khadim  Synthetic PVC Sole Blue Decorative Sandal Women</td>\n",
       "      <td>women's shoes</td>\n",
       "    </tr>\n",
       "    <tr>\n",
       "      <th>77180</th>\n",
       "      <td>Walky Wear Dashing Bellies Ballet Flat Belly Womens Girl</td>\n",
       "      <td>women's shoes</td>\n",
       "    </tr>\n",
       "    <tr>\n",
       "      <th>77181</th>\n",
       "      <td>BEREALSlate Black Sandal Women</td>\n",
       "      <td>women's shoes</td>\n",
       "    </tr>\n",
       "    <tr>\n",
       "      <th>77182</th>\n",
       "      <td>Stride girls Anok Floaters</td>\n",
       "      <td>women's shoes</td>\n",
       "    </tr>\n",
       "    <tr>\n",
       "      <th>77183</th>\n",
       "      <td>Punjabi Juttis Women Ethnic Flat Traditional Mojari Handmade Stylish Shoes</td>\n",
       "      <td>women's shoes</td>\n",
       "    </tr>\n",
       "  </tbody>\n",
       "</table>\n",
       "<p>77184 rows × 2 columns</p>\n",
       "</div>"
      ],
      "text/plain": [
       "                                                                             name  \\\n",
       "0                                              Caprese ZOLA women  Satchel YELLOW   \n",
       "1                                              Fastrack Brown Leather Men  Wallet   \n",
       "2                          TEKZIE Butterfly Colourful Combo Set Watch Girls Women   \n",
       "3                                      Sorellaz Womens Rose Gold Open Branch Ring   \n",
       "4                      Astroghar Evil Eye Pendant Protection Prosperity Men Women   \n",
       "...                                                                           ...   \n",
       "77179                Cleo Khadim  Synthetic PVC Sole Blue Decorative Sandal Women   \n",
       "77180                   Walky Wear Dashing Bellies Ballet Flat Belly Womens Girl    \n",
       "77181                                              BEREALSlate Black Sandal Women   \n",
       "77182                                                  Stride girls Anok Floaters   \n",
       "77183  Punjabi Juttis Women Ethnic Flat Traditional Mojari Handmade Stylish Shoes   \n",
       "\n",
       "       main_category  \n",
       "0        accessories  \n",
       "1        accessories  \n",
       "2        accessories  \n",
       "3        accessories  \n",
       "4        accessories  \n",
       "...              ...  \n",
       "77179  women's shoes  \n",
       "77180  women's shoes  \n",
       "77181  women's shoes  \n",
       "77182  women's shoes  \n",
       "77183  women's shoes  \n",
       "\n",
       "[77184 rows x 2 columns]"
      ]
     },
     "execution_count": 2,
     "metadata": {},
     "output_type": "execute_result"
    }
   ],
   "source": [
    "df = pd.read_csv(\"data/amazon_products_sampled_cleaned.csv\")\n",
    "df"
   ]
  },
  {
   "cell_type": "markdown",
   "id": "e636d500",
   "metadata": {},
   "source": [
    "## Dataset Inforamtion"
   ]
  },
  {
   "cell_type": "code",
   "execution_count": 3,
   "id": "a8ca6aa4",
   "metadata": {},
   "outputs": [
    {
     "name": "stdout",
     "output_type": "stream",
     "text": [
      "<class 'pandas.core.frame.DataFrame'>\n",
      "RangeIndex: 77184 entries, 0 to 77183\n",
      "Data columns (total 2 columns):\n",
      " #   Column         Non-Null Count  Dtype \n",
      "---  ------         --------------  ----- \n",
      " 0   name           77177 non-null  object\n",
      " 1   main_category  77184 non-null  object\n",
      "dtypes: object(2)\n",
      "memory usage: 1.2+ MB\n"
     ]
    }
   ],
   "source": [
    "df.info()"
   ]
  },
  {
   "cell_type": "code",
   "execution_count": 4,
   "id": "5982fdad",
   "metadata": {},
   "outputs": [
    {
     "data": {
      "text/html": [
       "<div>\n",
       "<style scoped>\n",
       "    .dataframe tbody tr th:only-of-type {\n",
       "        vertical-align: middle;\n",
       "    }\n",
       "\n",
       "    .dataframe tbody tr th {\n",
       "        vertical-align: top;\n",
       "    }\n",
       "\n",
       "    .dataframe thead th {\n",
       "        text-align: right;\n",
       "    }\n",
       "</style>\n",
       "<table border=\"1\" class=\"dataframe\">\n",
       "  <thead>\n",
       "    <tr style=\"text-align: right;\">\n",
       "      <th></th>\n",
       "      <th>count</th>\n",
       "      <th>unique</th>\n",
       "      <th>top</th>\n",
       "      <th>freq</th>\n",
       "    </tr>\n",
       "  </thead>\n",
       "  <tbody>\n",
       "    <tr>\n",
       "      <th>name</th>\n",
       "      <td>77177</td>\n",
       "      <td>74165</td>\n",
       "      <td>Walktrendy Women  Ballet Flat</td>\n",
       "      <td>107</td>\n",
       "    </tr>\n",
       "    <tr>\n",
       "      <th>main_category</th>\n",
       "      <td>77184</td>\n",
       "      <td>20</td>\n",
       "      <td>accessories</td>\n",
       "      <td>4500</td>\n",
       "    </tr>\n",
       "  </tbody>\n",
       "</table>\n",
       "</div>"
      ],
      "text/plain": [
       "               count unique                            top  freq\n",
       "name           77177  74165  Walktrendy Women  Ballet Flat   107\n",
       "main_category  77184     20                    accessories  4500"
      ]
     },
     "execution_count": 4,
     "metadata": {},
     "output_type": "execute_result"
    }
   ],
   "source": [
    "df.describe().T"
   ]
  },
  {
   "cell_type": "markdown",
   "id": "36770cd6",
   "metadata": {},
   "source": [
    "## Data Visualization"
   ]
  },
  {
   "cell_type": "code",
   "execution_count": 19,
   "id": "6c728f55",
   "metadata": {},
   "outputs": [
    {
     "data": {
      "image/png": "[encoded data removed]",
      "text/plain": [
       "<Figure size 720x432 with 1 Axes>"
      ]
     },
     "metadata": {
      "needs_background": "light"
     },
     "output_type": "display_data"
    }
   ],
   "source": [
    "# Bar chart\n",
    "plt.figure(figsize=(10, 6))\n",
    "plt.bar(df['main_category'].value_counts().index, df['main_category'].value_counts().values)\n",
    "plt.xlabel(\"Category\")\n",
    "plt.ylabel(\"Count\")\n",
    "plt.title(\"Amazon Product Categories\")\n",
    "plt.xticks(rotation=90)\n",
    "\n",
    "plt.savefig(\"img/bar_chart.png\")\n",
    "\n",
    "plt.show()"
   ]
  }
 ],
 "metadata": {
  "kernelspec": {
   "display_name": "Python 3 (clean)",
   "language": "python",
   "name": "python3_clean"
  },
  "language_info": {
   "codemirror_mode": {
    "name": "ipython",
    "version": 3
   },
   "file_extension": ".py",
   "mimetype": "text/x-python",
   "name": "python",
   "nbconvert_exporter": "python",
   "pygments_lexer": "ipython3",
   "version": "3.9.5"
  }
 },
 "nbformat": 4,
 "nbformat_minor": 5
}
