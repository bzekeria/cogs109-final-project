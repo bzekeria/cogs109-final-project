{
  "cells": [
    {
      "cell_type": "markdown",
      "metadata": {
        "id": "694a4a58"
      },
      "source": [
        "# Feature Engineering - Logistic Regression"
      ],
      "id": "694a4a58"
    },
    {
      "cell_type": "code",
      "execution_count": 1,
      "metadata": {
        "id": "e627b063",
        "colab": {
          "base_uri": "https://localhost:8080/"
        },
        "outputId": "a4874d83-d2bf-4da3-f023-989197de8175"
      },
      "outputs": [
        {
          "output_type": "stream",
          "name": "stderr",
          "text": [
            "[nltk_data] Downloading package punkt to /root/nltk_data...\n",
            "[nltk_data]   Unzipping tokenizers/punkt.zip.\n",
            "[nltk_data] Downloading package wordnet to /root/nltk_data...\n",
            "[nltk_data] Downloading package omw-1.4 to /root/nltk_data...\n",
            "[nltk_data] Downloading package words to /root/nltk_data...\n",
            "[nltk_data]   Unzipping corpora/words.zip.\n"
          ]
        },
        {
          "output_type": "stream",
          "name": "stdout",
          "text": [
            "Mounted at /content/drive\n"
          ]
        }
      ],
      "source": [
        "import pandas as pd\n",
        "import numpy as np\n",
        "import matplotlib.pyplot as plt\n",
        "%matplotlib inline\n",
        "\n",
        "import nltk\n",
        "nltk.download('punkt')\n",
        "nltk.download('wordnet')\n",
        "nltk.download('omw-1.4')\n",
        "nltk.download('words')\n",
        "from nltk.tokenize import word_tokenize\n",
        "from nltk.stem import WordNetLemmatizer\n",
        "\n",
        "import re\n",
        "\n",
        "from sklearn.feature_extraction.text import TfidfVectorizer\n",
        "from sklearn.model_selection import train_test_split\n",
        "from sklearn.metrics import classification_report\n",
        "from sklearn.metrics import accuracy_score\n",
        "from sklearn.metrics import precision_recall_curve\n",
        "from sklearn.naive_bayes import MultinomialNB\n",
        "from sklearn.multiclass import OneVsRestClassifier\n",
        "from sklearn.neighbors import KNeighborsClassifier\n",
        "from sklearn.tree import DecisionTreeClassifier\n",
        "from sklearn.linear_model import LogisticRegression\n",
        "from sklearn.manifold import TSNE\n",
        "from sklearn.discriminant_analysis import LinearDiscriminantAnalysis\n",
        "from sklearn.decomposition import TruncatedSVD\n",
        "\n",
        "\n",
        "# notebook configurations\n",
        "pd.options.display.max_colwidth = 100\n",
        "\n",
        "import warnings\n",
        "warnings.filterwarnings('ignore')\n",
        "\n",
        "from google.colab import drive\n",
        "drive.mount('/content/drive')\n",
        "\n",
        "df = pd.read_csv(\"drive/MyDrive/COGS 109 Amazon Project/Data/amazon_products_sampled_eda_cleaned.csv\")\n"
      ],
      "id": "e627b063"
    },
    {
      "cell_type": "code",
      "execution_count": 2,
      "metadata": {
        "id": "tbpU9Q9jeTgp",
        "colab": {
          "base_uri": "https://localhost:8080/",
          "height": 419
        },
        "outputId": "bdaabc70-8506-4c67-9094-c989591d1336"
      },
      "outputs": [
        {
          "output_type": "execute_result",
          "data": {
            "text/plain": [
              "                                                                      name  \\\n",
              "0                            belwaba small fabric sling bag side bag woman   \n",
              "1                    wesley liter casual daypack collegedaypack tuitionbag   \n",
              "2      prajapati gem certify unheated ratti carat natural ruby loose woman   \n",
              "3                   side sling cross body messenger bag men small size tan   \n",
              "4                                                  baggit lxe pheeby black   \n",
              "...                                                                    ...   \n",
              "77149                                                grey block heel woman   \n",
              "77150                                            london womens ballet flat   \n",
              "77151                                                 bata woman mary heel   \n",
              "77152                                   denim expos traditional size white   \n",
              "77153                                           metro woman fashion sandal   \n",
              "\n",
              "       main_category  \n",
              "0        accessories  \n",
              "1        accessories  \n",
              "2        accessories  \n",
              "3        accessories  \n",
              "4        accessories  \n",
              "...              ...  \n",
              "77149  women's shoes  \n",
              "77150  women's shoes  \n",
              "77151  women's shoes  \n",
              "77152  women's shoes  \n",
              "77153  women's shoes  \n",
              "\n",
              "[77154 rows x 2 columns]"
            ],
            "text/html": [
              "\n",
              "  <div id=\"df-ccf9a16e-82db-4d82-9388-48f2018956de\">\n",
              "    <div class=\"colab-df-container\">\n",
              "      <div>\n",
              "<style scoped>\n",
              "    .dataframe tbody tr th:only-of-type {\n",
              "        vertical-align: middle;\n",
              "    }\n",
              "\n",
              "    .dataframe tbody tr th {\n",
              "        vertical-align: top;\n",
              "    }\n",
              "\n",
              "    .dataframe thead th {\n",
              "        text-align: right;\n",
              "    }\n",
              "</style>\n",
              "<table border=\"1\" class=\"dataframe\">\n",
              "  <thead>\n",
              "    <tr style=\"text-align: right;\">\n",
              "      <th></th>\n",
              "      <th>name</th>\n",
              "      <th>main_category</th>\n",
              "    </tr>\n",
              "  </thead>\n",
              "  <tbody>\n",
              "    <tr>\n",
              "      <th>0</th>\n",
              "      <td>belwaba small fabric sling bag side bag woman</td>\n",
              "      <td>accessories</td>\n",
              "    </tr>\n",
              "    <tr>\n",
              "      <th>1</th>\n",
              "      <td>wesley liter casual daypack collegedaypack tuitionbag</td>\n",
              "      <td>accessories</td>\n",
              "    </tr>\n",
              "    <tr>\n",
              "      <th>2</th>\n",
              "      <td>prajapati gem certify unheated ratti carat natural ruby loose woman</td>\n",
              "      <td>accessories</td>\n",
              "    </tr>\n",
              "    <tr>\n",
              "      <th>3</th>\n",
              "      <td>side sling cross body messenger bag men small size tan</td>\n",
              "      <td>accessories</td>\n",
              "    </tr>\n",
              "    <tr>\n",
              "      <th>4</th>\n",
              "      <td>baggit lxe pheeby black</td>\n",
              "      <td>accessories</td>\n",
              "    </tr>\n",
              "    <tr>\n",
              "      <th>...</th>\n",
              "      <td>...</td>\n",
              "      <td>...</td>\n",
              "    </tr>\n",
              "    <tr>\n",
              "      <th>77149</th>\n",
              "      <td>grey block heel woman</td>\n",
              "      <td>women's shoes</td>\n",
              "    </tr>\n",
              "    <tr>\n",
              "      <th>77150</th>\n",
              "      <td>london womens ballet flat</td>\n",
              "      <td>women's shoes</td>\n",
              "    </tr>\n",
              "    <tr>\n",
              "      <th>77151</th>\n",
              "      <td>bata woman mary heel</td>\n",
              "      <td>women's shoes</td>\n",
              "    </tr>\n",
              "    <tr>\n",
              "      <th>77152</th>\n",
              "      <td>denim expos traditional size white</td>\n",
              "      <td>women's shoes</td>\n",
              "    </tr>\n",
              "    <tr>\n",
              "      <th>77153</th>\n",
              "      <td>metro woman fashion sandal</td>\n",
              "      <td>women's shoes</td>\n",
              "    </tr>\n",
              "  </tbody>\n",
              "</table>\n",
              "<p>77154 rows × 2 columns</p>\n",
              "</div>\n",
              "      <button class=\"colab-df-convert\" onclick=\"convertToInteractive('df-ccf9a16e-82db-4d82-9388-48f2018956de')\"\n",
              "              title=\"Convert this dataframe to an interactive table.\"\n",
              "              style=\"display:none;\">\n",
              "        \n",
              "  <svg xmlns=\"http://www.w3.org/2000/svg\" height=\"24px\"viewBox=\"0 0 24 24\"\n",
              "       width=\"24px\">\n",
              "    <path d=\"M0 0h24v24H0V0z\" fill=\"none\"/>\n",
              "    <path d=\"M18.56 5.44l.94 2.06.94-2.06 2.06-.94-2.06-.94-.94-2.06-.94 2.06-2.06.94zm-11 1L8.5 8.5l.94-2.06 2.06-.94-2.06-.94L8.5 2.5l-.94 2.06-2.06.94zm10 10l.94 2.06.94-2.06 2.06-.94-2.06-.94-.94-2.06-.94 2.06-2.06.94z\"/><path d=\"M17.41 7.96l-1.37-1.37c-.4-.4-.92-.59-1.43-.59-.52 0-1.04.2-1.43.59L10.3 9.45l-7.72 7.72c-.78.78-.78 2.05 0 2.83L4 21.41c.39.39.9.59 1.41.59.51 0 1.02-.2 1.41-.59l7.78-7.78 2.81-2.81c.8-.78.8-2.07 0-2.86zM5.41 20L4 18.59l7.72-7.72 1.47 1.35L5.41 20z\"/>\n",
              "  </svg>\n",
              "      </button>\n",
              "      \n",
              "  <style>\n",
              "    .colab-df-container {\n",
              "      display:flex;\n",
              "      flex-wrap:wrap;\n",
              "      gap: 12px;\n",
              "    }\n",
              "\n",
              "    .colab-df-convert {\n",
              "      background-color: #E8F0FE;\n",
              "      border: none;\n",
              "      border-radius: 50%;\n",
              "      cursor: pointer;\n",
              "      display: none;\n",
              "      fill: #1967D2;\n",
              "      height: 32px;\n",
              "      padding: 0 0 0 0;\n",
              "      width: 32px;\n",
              "    }\n",
              "\n",
              "    .colab-df-convert:hover {\n",
              "      background-color: #E2EBFA;\n",
              "      box-shadow: 0px 1px 2px rgba(60, 64, 67, 0.3), 0px 1px 3px 1px rgba(60, 64, 67, 0.15);\n",
              "      fill: #174EA6;\n",
              "    }\n",
              "\n",
              "    [theme=dark] .colab-df-convert {\n",
              "      background-color: #3B4455;\n",
              "      fill: #D2E3FC;\n",
              "    }\n",
              "\n",
              "    [theme=dark] .colab-df-convert:hover {\n",
              "      background-color: #434B5C;\n",
              "      box-shadow: 0px 1px 3px 1px rgba(0, 0, 0, 0.15);\n",
              "      filter: drop-shadow(0px 1px 2px rgba(0, 0, 0, 0.3));\n",
              "      fill: #FFFFFF;\n",
              "    }\n",
              "  </style>\n",
              "\n",
              "      <script>\n",
              "        const buttonEl =\n",
              "          document.querySelector('#df-ccf9a16e-82db-4d82-9388-48f2018956de button.colab-df-convert');\n",
              "        buttonEl.style.display =\n",
              "          google.colab.kernel.accessAllowed ? 'block' : 'none';\n",
              "\n",
              "        async function convertToInteractive(key) {\n",
              "          const element = document.querySelector('#df-ccf9a16e-82db-4d82-9388-48f2018956de');\n",
              "          const dataTable =\n",
              "            await google.colab.kernel.invokeFunction('convertToInteractive',\n",
              "                                                     [key], {});\n",
              "          if (!dataTable) return;\n",
              "\n",
              "          const docLinkHtml = 'Like what you see? Visit the ' +\n",
              "            '<a target=\"_blank\" href=https://colab.research.google.com/notebooks/data_table.ipynb>data table notebook</a>'\n",
              "            + ' to learn more about interactive tables.';\n",
              "          element.innerHTML = '';\n",
              "          dataTable['output_type'] = 'display_data';\n",
              "          await google.colab.output.renderOutput(dataTable, element);\n",
              "          const docLink = document.createElement('div');\n",
              "          docLink.innerHTML = docLinkHtml;\n",
              "          element.appendChild(docLink);\n",
              "        }\n",
              "      </script>\n",
              "    </div>\n",
              "  </div>\n",
              "  "
            ]
          },
          "metadata": {},
          "execution_count": 2
        }
      ],
      "source": [
        "df"
      ],
      "id": "tbpU9Q9jeTgp"
    },
    {
      "cell_type": "markdown",
      "metadata": {
        "id": "b9ce5945"
      },
      "source": [
        "## Feature Extraction: TF-IDF"
      ],
      "id": "b9ce5945"
    },
    {
      "cell_type": "code",
      "execution_count": 3,
      "metadata": {
        "id": "tZCbTMc_ks3c"
      },
      "outputs": [],
      "source": [
        "# Create the TF-IDF vectorizer using ALL the data\n",
        "vectorizer = TfidfVectorizer()\n",
        "X_tfidf=vectorizer.fit_transform(df['name'])"
      ],
      "id": "tZCbTMc_ks3c"
    },
    {
      "cell_type": "code",
      "execution_count": 4,
      "metadata": {
        "id": "b13f742e"
      },
      "outputs": [],
      "source": [
        "# Split the data into training and testing sets\n",
        "X_train, X_test, y_train, y_test = train_test_split(X_tfidf, df[\"main_category\"], test_size = 0.2, random_state = 42)"
      ],
      "id": "b13f742e"
    },
    {
      "cell_type": "code",
      "execution_count": 5,
      "metadata": {
        "id": "XJBDU9qqKrw7"
      },
      "outputs": [],
      "source": [
        "del df"
      ],
      "id": "XJBDU9qqKrw7"
    },
    {
      "cell_type": "code",
      "execution_count": 6,
      "metadata": {
        "colab": {
          "base_uri": "https://localhost:8080/",
          "height": 419
        },
        "id": "dc92340a",
        "outputId": "87d9f05d-79c4-405c-94eb-6fcdc83f6548",
        "scrolled": false
      },
      "outputs": [
        {
          "output_type": "execute_result",
          "data": {
            "text/plain": [
              "       aadcart  aadi  aadvay  aadya  aahira  aajeevika  aakankasha  aakriti  \\\n",
              "0          0.0   0.0     0.0    0.0     0.0        0.0         0.0      0.0   \n",
              "1          0.0   0.0     0.0    0.0     0.0        0.0         0.0      0.0   \n",
              "2          0.0   0.0     0.0    0.0     0.0        0.0         0.0      0.0   \n",
              "3          0.0   0.0     0.0    0.0     0.0        0.0         0.0      0.0   \n",
              "4          0.0   0.0     0.0    0.0     0.0        0.0         0.0      0.0   \n",
              "...        ...   ...     ...    ...     ...        ...         ...      ...   \n",
              "61718      0.0   0.0     0.0    0.0     0.0        0.0         0.0      0.0   \n",
              "61719      0.0   0.0     0.0    0.0     0.0        0.0         0.0      0.0   \n",
              "61720      0.0   0.0     0.0    0.0     0.0        0.0         0.0      0.0   \n",
              "61721      0.0   0.0     0.0    0.0     0.0        0.0         0.0      0.0   \n",
              "61722      0.0   0.0     0.0    0.0     0.0        0.0         0.0      0.0   \n",
              "\n",
              "       aam  aamis  ...  zte  zumrut  zunaira  zuperia  zurato  zureni  zurich  \\\n",
              "0      0.0    0.0  ...  0.0     0.0      0.0      0.0     0.0     0.0     0.0   \n",
              "1      0.0    0.0  ...  0.0     0.0      0.0      0.0     0.0     0.0     0.0   \n",
              "2      0.0    0.0  ...  0.0     0.0      0.0      0.0     0.0     0.0     0.0   \n",
              "3      0.0    0.0  ...  0.0     0.0      0.0      0.0     0.0     0.0     0.0   \n",
              "4      0.0    0.0  ...  0.0     0.0      0.0      0.0     0.0     0.0     0.0   \n",
              "...    ...    ...  ...  ...     ...      ...      ...     ...     ...     ...   \n",
              "61718  0.0    0.0  ...  0.0     0.0      0.0      0.0     0.0     0.0     0.0   \n",
              "61719  0.0    0.0  ...  0.0     0.0      0.0      0.0     0.0     0.0     0.0   \n",
              "61720  0.0    0.0  ...  0.0     0.0      0.0      0.0     0.0     0.0     0.0   \n",
              "61721  0.0    0.0  ...  0.0     0.0      0.0      0.0     0.0     0.0     0.0   \n",
              "61722  0.0    0.0  ...  0.0     0.0      0.0      0.0     0.0     0.0     0.0   \n",
              "\n",
              "       zurik  zuru  zuvino  \n",
              "0        0.0   0.0     0.0  \n",
              "1        0.0   0.0     0.0  \n",
              "2        0.0   0.0     0.0  \n",
              "3        0.0   0.0     0.0  \n",
              "4        0.0   0.0     0.0  \n",
              "...      ...   ...     ...  \n",
              "61718    0.0   0.0     0.0  \n",
              "61719    0.0   0.0     0.0  \n",
              "61720    0.0   0.0     0.0  \n",
              "61721    0.0   0.0     0.0  \n",
              "61722    0.0   0.0     0.0  \n",
              "\n",
              "[61723 rows x 11983 columns]"
            ],
            "text/html": [
              "\n",
              "  <div id=\"df-6d30b5c8-1387-494f-bcb9-cfc4a6548876\">\n",
              "    <div class=\"colab-df-container\">\n",
              "      <div>\n",
              "<style scoped>\n",
              "    .dataframe tbody tr th:only-of-type {\n",
              "        vertical-align: middle;\n",
              "    }\n",
              "\n",
              "    .dataframe tbody tr th {\n",
              "        vertical-align: top;\n",
              "    }\n",
              "\n",
              "    .dataframe thead th {\n",
              "        text-align: right;\n",
              "    }\n",
              "</style>\n",
              "<table border=\"1\" class=\"dataframe\">\n",
              "  <thead>\n",
              "    <tr style=\"text-align: right;\">\n",
              "      <th></th>\n",
              "      <th>aadcart</th>\n",
              "      <th>aadi</th>\n",
              "      <th>aadvay</th>\n",
              "      <th>aadya</th>\n",
              "      <th>aahira</th>\n",
              "      <th>aajeevika</th>\n",
              "      <th>aakankasha</th>\n",
              "      <th>aakriti</th>\n",
              "      <th>aam</th>\n",
              "      <th>aamis</th>\n",
              "      <th>...</th>\n",
              "      <th>zte</th>\n",
              "      <th>zumrut</th>\n",
              "      <th>zunaira</th>\n",
              "      <th>zuperia</th>\n",
              "      <th>zurato</th>\n",
              "      <th>zureni</th>\n",
              "      <th>zurich</th>\n",
              "      <th>zurik</th>\n",
              "      <th>zuru</th>\n",
              "      <th>zuvino</th>\n",
              "    </tr>\n",
              "  </thead>\n",
              "  <tbody>\n",
              "    <tr>\n",
              "      <th>0</th>\n",
              "      <td>0.0</td>\n",
              "      <td>0.0</td>\n",
              "      <td>0.0</td>\n",
              "      <td>0.0</td>\n",
              "      <td>0.0</td>\n",
              "      <td>0.0</td>\n",
              "      <td>0.0</td>\n",
              "      <td>0.0</td>\n",
              "      <td>0.0</td>\n",
              "      <td>0.0</td>\n",
              "      <td>...</td>\n",
              "      <td>0.0</td>\n",
              "      <td>0.0</td>\n",
              "      <td>0.0</td>\n",
              "      <td>0.0</td>\n",
              "      <td>0.0</td>\n",
              "      <td>0.0</td>\n",
              "      <td>0.0</td>\n",
              "      <td>0.0</td>\n",
              "      <td>0.0</td>\n",
              "      <td>0.0</td>\n",
              "    </tr>\n",
              "    <tr>\n",
              "      <th>1</th>\n",
              "      <td>0.0</td>\n",
              "      <td>0.0</td>\n",
              "      <td>0.0</td>\n",
              "      <td>0.0</td>\n",
              "      <td>0.0</td>\n",
              "      <td>0.0</td>\n",
              "      <td>0.0</td>\n",
              "      <td>0.0</td>\n",
              "      <td>0.0</td>\n",
              "      <td>0.0</td>\n",
              "      <td>...</td>\n",
              "      <td>0.0</td>\n",
              "      <td>0.0</td>\n",
              "      <td>0.0</td>\n",
              "      <td>0.0</td>\n",
              "      <td>0.0</td>\n",
              "      <td>0.0</td>\n",
              "      <td>0.0</td>\n",
              "      <td>0.0</td>\n",
              "      <td>0.0</td>\n",
              "      <td>0.0</td>\n",
              "    </tr>\n",
              "    <tr>\n",
              "      <th>2</th>\n",
              "      <td>0.0</td>\n",
              "      <td>0.0</td>\n",
              "      <td>0.0</td>\n",
              "      <td>0.0</td>\n",
              "      <td>0.0</td>\n",
              "      <td>0.0</td>\n",
              "      <td>0.0</td>\n",
              "      <td>0.0</td>\n",
              "      <td>0.0</td>\n",
              "      <td>0.0</td>\n",
              "      <td>...</td>\n",
              "      <td>0.0</td>\n",
              "      <td>0.0</td>\n",
              "      <td>0.0</td>\n",
              "      <td>0.0</td>\n",
              "      <td>0.0</td>\n",
              "      <td>0.0</td>\n",
              "      <td>0.0</td>\n",
              "      <td>0.0</td>\n",
              "      <td>0.0</td>\n",
              "      <td>0.0</td>\n",
              "    </tr>\n",
              "    <tr>\n",
              "      <th>3</th>\n",
              "      <td>0.0</td>\n",
              "      <td>0.0</td>\n",
              "      <td>0.0</td>\n",
              "      <td>0.0</td>\n",
              "      <td>0.0</td>\n",
              "      <td>0.0</td>\n",
              "      <td>0.0</td>\n",
              "      <td>0.0</td>\n",
              "      <td>0.0</td>\n",
              "      <td>0.0</td>\n",
              "      <td>...</td>\n",
              "      <td>0.0</td>\n",
              "      <td>0.0</td>\n",
              "      <td>0.0</td>\n",
              "      <td>0.0</td>\n",
              "      <td>0.0</td>\n",
              "      <td>0.0</td>\n",
              "      <td>0.0</td>\n",
              "      <td>0.0</td>\n",
              "      <td>0.0</td>\n",
              "      <td>0.0</td>\n",
              "    </tr>\n",
              "    <tr>\n",
              "      <th>4</th>\n",
              "      <td>0.0</td>\n",
              "      <td>0.0</td>\n",
              "      <td>0.0</td>\n",
              "      <td>0.0</td>\n",
              "      <td>0.0</td>\n",
              "      <td>0.0</td>\n",
              "      <td>0.0</td>\n",
              "      <td>0.0</td>\n",
              "      <td>0.0</td>\n",
              "      <td>0.0</td>\n",
              "      <td>...</td>\n",
              "      <td>0.0</td>\n",
              "      <td>0.0</td>\n",
              "      <td>0.0</td>\n",
              "      <td>0.0</td>\n",
              "      <td>0.0</td>\n",
              "      <td>0.0</td>\n",
              "      <td>0.0</td>\n",
              "      <td>0.0</td>\n",
              "      <td>0.0</td>\n",
              "      <td>0.0</td>\n",
              "    </tr>\n",
              "    <tr>\n",
              "      <th>...</th>\n",
              "      <td>...</td>\n",
              "      <td>...</td>\n",
              "      <td>...</td>\n",
              "      <td>...</td>\n",
              "      <td>...</td>\n",
              "      <td>...</td>\n",
              "      <td>...</td>\n",
              "      <td>...</td>\n",
              "      <td>...</td>\n",
              "      <td>...</td>\n",
              "      <td>...</td>\n",
              "      <td>...</td>\n",
              "      <td>...</td>\n",
              "      <td>...</td>\n",
              "      <td>...</td>\n",
              "      <td>...</td>\n",
              "      <td>...</td>\n",
              "      <td>...</td>\n",
              "      <td>...</td>\n",
              "      <td>...</td>\n",
              "      <td>...</td>\n",
              "    </tr>\n",
              "    <tr>\n",
              "      <th>61718</th>\n",
              "      <td>0.0</td>\n",
              "      <td>0.0</td>\n",
              "      <td>0.0</td>\n",
              "      <td>0.0</td>\n",
              "      <td>0.0</td>\n",
              "      <td>0.0</td>\n",
              "      <td>0.0</td>\n",
              "      <td>0.0</td>\n",
              "      <td>0.0</td>\n",
              "      <td>0.0</td>\n",
              "      <td>...</td>\n",
              "      <td>0.0</td>\n",
              "      <td>0.0</td>\n",
              "      <td>0.0</td>\n",
              "      <td>0.0</td>\n",
              "      <td>0.0</td>\n",
              "      <td>0.0</td>\n",
              "      <td>0.0</td>\n",
              "      <td>0.0</td>\n",
              "      <td>0.0</td>\n",
              "      <td>0.0</td>\n",
              "    </tr>\n",
              "    <tr>\n",
              "      <th>61719</th>\n",
              "      <td>0.0</td>\n",
              "      <td>0.0</td>\n",
              "      <td>0.0</td>\n",
              "      <td>0.0</td>\n",
              "      <td>0.0</td>\n",
              "      <td>0.0</td>\n",
              "      <td>0.0</td>\n",
              "      <td>0.0</td>\n",
              "      <td>0.0</td>\n",
              "      <td>0.0</td>\n",
              "      <td>...</td>\n",
              "      <td>0.0</td>\n",
              "      <td>0.0</td>\n",
              "      <td>0.0</td>\n",
              "      <td>0.0</td>\n",
              "      <td>0.0</td>\n",
              "      <td>0.0</td>\n",
              "      <td>0.0</td>\n",
              "      <td>0.0</td>\n",
              "      <td>0.0</td>\n",
              "      <td>0.0</td>\n",
              "    </tr>\n",
              "    <tr>\n",
              "      <th>61720</th>\n",
              "      <td>0.0</td>\n",
              "      <td>0.0</td>\n",
              "      <td>0.0</td>\n",
              "      <td>0.0</td>\n",
              "      <td>0.0</td>\n",
              "      <td>0.0</td>\n",
              "      <td>0.0</td>\n",
              "      <td>0.0</td>\n",
              "      <td>0.0</td>\n",
              "      <td>0.0</td>\n",
              "      <td>...</td>\n",
              "      <td>0.0</td>\n",
              "      <td>0.0</td>\n",
              "      <td>0.0</td>\n",
              "      <td>0.0</td>\n",
              "      <td>0.0</td>\n",
              "      <td>0.0</td>\n",
              "      <td>0.0</td>\n",
              "      <td>0.0</td>\n",
              "      <td>0.0</td>\n",
              "      <td>0.0</td>\n",
              "    </tr>\n",
              "    <tr>\n",
              "      <th>61721</th>\n",
              "      <td>0.0</td>\n",
              "      <td>0.0</td>\n",
              "      <td>0.0</td>\n",
              "      <td>0.0</td>\n",
              "      <td>0.0</td>\n",
              "      <td>0.0</td>\n",
              "      <td>0.0</td>\n",
              "      <td>0.0</td>\n",
              "      <td>0.0</td>\n",
              "      <td>0.0</td>\n",
              "      <td>...</td>\n",
              "      <td>0.0</td>\n",
              "      <td>0.0</td>\n",
              "      <td>0.0</td>\n",
              "      <td>0.0</td>\n",
              "      <td>0.0</td>\n",
              "      <td>0.0</td>\n",
              "      <td>0.0</td>\n",
              "      <td>0.0</td>\n",
              "      <td>0.0</td>\n",
              "      <td>0.0</td>\n",
              "    </tr>\n",
              "    <tr>\n",
              "      <th>61722</th>\n",
              "      <td>0.0</td>\n",
              "      <td>0.0</td>\n",
              "      <td>0.0</td>\n",
              "      <td>0.0</td>\n",
              "      <td>0.0</td>\n",
              "      <td>0.0</td>\n",
              "      <td>0.0</td>\n",
              "      <td>0.0</td>\n",
              "      <td>0.0</td>\n",
              "      <td>0.0</td>\n",
              "      <td>...</td>\n",
              "      <td>0.0</td>\n",
              "      <td>0.0</td>\n",
              "      <td>0.0</td>\n",
              "      <td>0.0</td>\n",
              "      <td>0.0</td>\n",
              "      <td>0.0</td>\n",
              "      <td>0.0</td>\n",
              "      <td>0.0</td>\n",
              "      <td>0.0</td>\n",
              "      <td>0.0</td>\n",
              "    </tr>\n",
              "  </tbody>\n",
              "</table>\n",
              "<p>61723 rows × 11983 columns</p>\n",
              "</div>\n",
              "      <button class=\"colab-df-convert\" onclick=\"convertToInteractive('df-6d30b5c8-1387-494f-bcb9-cfc4a6548876')\"\n",
              "              title=\"Convert this dataframe to an interactive table.\"\n",
              "              style=\"display:none;\">\n",
              "        \n",
              "  <svg xmlns=\"http://www.w3.org/2000/svg\" height=\"24px\"viewBox=\"0 0 24 24\"\n",
              "       width=\"24px\">\n",
              "    <path d=\"M0 0h24v24H0V0z\" fill=\"none\"/>\n",
              "    <path d=\"M18.56 5.44l.94 2.06.94-2.06 2.06-.94-2.06-.94-.94-2.06-.94 2.06-2.06.94zm-11 1L8.5 8.5l.94-2.06 2.06-.94-2.06-.94L8.5 2.5l-.94 2.06-2.06.94zm10 10l.94 2.06.94-2.06 2.06-.94-2.06-.94-.94-2.06-.94 2.06-2.06.94z\"/><path d=\"M17.41 7.96l-1.37-1.37c-.4-.4-.92-.59-1.43-.59-.52 0-1.04.2-1.43.59L10.3 9.45l-7.72 7.72c-.78.78-.78 2.05 0 2.83L4 21.41c.39.39.9.59 1.41.59.51 0 1.02-.2 1.41-.59l7.78-7.78 2.81-2.81c.8-.78.8-2.07 0-2.86zM5.41 20L4 18.59l7.72-7.72 1.47 1.35L5.41 20z\"/>\n",
              "  </svg>\n",
              "      </button>\n",
              "      \n",
              "  <style>\n",
              "    .colab-df-container {\n",
              "      display:flex;\n",
              "      flex-wrap:wrap;\n",
              "      gap: 12px;\n",
              "    }\n",
              "\n",
              "    .colab-df-convert {\n",
              "      background-color: #E8F0FE;\n",
              "      border: none;\n",
              "      border-radius: 50%;\n",
              "      cursor: pointer;\n",
              "      display: none;\n",
              "      fill: #1967D2;\n",
              "      height: 32px;\n",
              "      padding: 0 0 0 0;\n",
              "      width: 32px;\n",
              "    }\n",
              "\n",
              "    .colab-df-convert:hover {\n",
              "      background-color: #E2EBFA;\n",
              "      box-shadow: 0px 1px 2px rgba(60, 64, 67, 0.3), 0px 1px 3px 1px rgba(60, 64, 67, 0.15);\n",
              "      fill: #174EA6;\n",
              "    }\n",
              "\n",
              "    [theme=dark] .colab-df-convert {\n",
              "      background-color: #3B4455;\n",
              "      fill: #D2E3FC;\n",
              "    }\n",
              "\n",
              "    [theme=dark] .colab-df-convert:hover {\n",
              "      background-color: #434B5C;\n",
              "      box-shadow: 0px 1px 3px 1px rgba(0, 0, 0, 0.15);\n",
              "      filter: drop-shadow(0px 1px 2px rgba(0, 0, 0, 0.3));\n",
              "      fill: #FFFFFF;\n",
              "    }\n",
              "  </style>\n",
              "\n",
              "      <script>\n",
              "        const buttonEl =\n",
              "          document.querySelector('#df-6d30b5c8-1387-494f-bcb9-cfc4a6548876 button.colab-df-convert');\n",
              "        buttonEl.style.display =\n",
              "          google.colab.kernel.accessAllowed ? 'block' : 'none';\n",
              "\n",
              "        async function convertToInteractive(key) {\n",
              "          const element = document.querySelector('#df-6d30b5c8-1387-494f-bcb9-cfc4a6548876');\n",
              "          const dataTable =\n",
              "            await google.colab.kernel.invokeFunction('convertToInteractive',\n",
              "                                                     [key], {});\n",
              "          if (!dataTable) return;\n",
              "\n",
              "          const docLinkHtml = 'Like what you see? Visit the ' +\n",
              "            '<a target=\"_blank\" href=https://colab.research.google.com/notebooks/data_table.ipynb>data table notebook</a>'\n",
              "            + ' to learn more about interactive tables.';\n",
              "          element.innerHTML = '';\n",
              "          dataTable['output_type'] = 'display_data';\n",
              "          await google.colab.output.renderOutput(dataTable, element);\n",
              "          const docLink = document.createElement('div');\n",
              "          docLink.innerHTML = docLinkHtml;\n",
              "          element.appendChild(docLink);\n",
              "        }\n",
              "      </script>\n",
              "    </div>\n",
              "  </div>\n",
              "  "
            ]
          },
          "metadata": {},
          "execution_count": 6
        }
      ],
      "source": [
        "# Fit the vectorizer on the training data\n",
        "train_features = X_train\n",
        "test_features = X_test\n",
        "\n",
        "sum_features=np.array(train_features.sum(axis=0)).flatten()\n",
        "keep = (sum_features>1)\n",
        "\n",
        "train_features=train_features[:,keep]\n",
        "test_features=test_features[:,keep]\n",
        "\n",
        "train_words_numerical = pd.DataFrame(train_features.toarray(),\n",
        "                                     columns=vectorizer.get_feature_names_out()[keep]\n",
        "                                     )\n",
        "test_words_numerical = pd.DataFrame(test_features.toarray(),\n",
        "                                     columns=vectorizer.get_feature_names_out()[keep]\n",
        "                                     )\n",
        "train_words_numerical"
      ],
      "id": "dc92340a"
    },
    {
      "cell_type": "code",
      "execution_count": 7,
      "metadata": {
        "colab": {
          "base_uri": "https://localhost:8080/"
        },
        "id": "04eDSbDLlRS5",
        "outputId": "70b122f2-c2f3-449e-f81a-c2bda7725bc2"
      },
      "outputs": [
        {
          "output_type": "execute_result",
          "data": {
            "text/plain": [
              "(<15431x11983 sparse matrix of type '<class 'numpy.float64'>'\n",
              " \twith 124251 stored elements in Compressed Sparse Row format>,\n",
              " <61723x11983 sparse matrix of type '<class 'numpy.float64'>'\n",
              " \twith 505608 stored elements in Compressed Sparse Row format>)"
            ]
          },
          "metadata": {},
          "execution_count": 7
        }
      ],
      "source": [
        "test_features, train_features"
      ],
      "id": "04eDSbDLlRS5"
    },
    {
      "cell_type": "markdown",
      "metadata": {
        "id": "wgaZIBl6pqaX"
      },
      "source": [
        "## Dimensionality Reduction: PCA"
      ],
      "id": "wgaZIBl6pqaX"
    },
    {
      "cell_type": "code",
      "execution_count": 8,
      "metadata": {
        "id": "5f7e27b5",
        "colab": {
          "base_uri": "https://localhost:8080/"
        },
        "outputId": "32f8d832-abbc-4a88-a92c-16a0731b6b71"
      },
      "outputs": [
        {
          "output_type": "stream",
          "name": "stdout",
          "text": [
            "CPU times: user 5min 22s, sys: 11.4 s, total: 5min 34s\n",
            "Wall time: 3min 29s\n"
          ]
        }
      ],
      "source": [
        "%%time\n",
        "# PCA\n",
        "from sklearn.decomposition import TruncatedSVD\n",
        "\n",
        "svd=TruncatedSVD(n_components=1500)\n",
        "u_train=svd.fit_transform(train_words_numerical.sample(10000))"
      ],
      "id": "5f7e27b5"
    },
    {
      "cell_type": "code",
      "execution_count": 9,
      "metadata": {
        "id": "b3b78a4f"
      },
      "outputs": [],
      "source": [
        "vt=svd.components_\n",
        "s=svd.singular_values_\n",
        "v=vt.T"
      ],
      "id": "b3b78a4f"
    },
    {
      "cell_type": "code",
      "execution_count": 10,
      "metadata": {
        "id": "rd8We2-Zi9t8"
      },
      "outputs": [],
      "source": [
        "u_train = train_words_numerical @ v @ np.diag(1/s)\n",
        "u_test = test_words_numerical @ v @ np.diag(1/s)\n"
      ],
      "id": "rd8We2-Zi9t8"
    },
    {
      "cell_type": "code",
      "execution_count": 11,
      "metadata": {
        "id": "bqlGx1kYjOiL",
        "colab": {
          "base_uri": "https://localhost:8080/"
        },
        "outputId": "279f5f06-af7e-4848-fcf5-8eced946379a"
      },
      "outputs": [
        {
          "output_type": "execute_result",
          "data": {
            "text/plain": [
              "((61723, 1500), (15431, 1500), (1500,), (1500, 11983))"
            ]
          },
          "metadata": {},
          "execution_count": 11
        }
      ],
      "source": [
        "u_train.shape, u_test.shape, s.shape, vt.shape"
      ],
      "id": "bqlGx1kYjOiL"
    },
    {
      "cell_type": "code",
      "execution_count": 12,
      "metadata": {
        "id": "SV1_J7xMjXRD",
        "colab": {
          "base_uri": "https://localhost:8080/",
          "height": 447
        },
        "outputId": "5f35d34b-c199-4038-b63f-4dbb10ee8550"
      },
      "outputs": [
        {
          "output_type": "execute_result",
          "data": {
            "text/plain": [
              "[<matplotlib.lines.Line2D at 0x7fd5a9115e70>]"
            ]
          },
          "metadata": {},
          "execution_count": 12
        },
        {
          "output_type": "display_data",
          "data": {
            "text/plain": [
              "<Figure size 640x480 with 1 Axes>"
            ],
            "image/png": "[encoded data removed]"
          },
          "metadata": {}
        }
      ],
      "source": [
        "plt.plot(u_train.iloc[:,1], u_train.iloc[:,2],'.')"
      ],
      "id": "SV1_J7xMjXRD"
    },
    {
      "cell_type": "code",
      "execution_count": 13,
      "metadata": {
        "id": "8b144dcf",
        "colab": {
          "base_uri": "https://localhost:8080/"
        },
        "outputId": "80751fee-06c6-4f84-8eeb-e3c19cb70d6e"
      },
      "outputs": [
        {
          "output_type": "execute_result",
          "data": {
            "text/plain": [
              "True"
            ]
          },
          "metadata": {},
          "execution_count": 13
        }
      ],
      "source": [
        "# validation make sure the features in both the train and test are the same\n",
        "all(train_words_numerical.columns) == all(test_words_numerical.columns)"
      ],
      "id": "8b144dcf"
    },
    {
      "cell_type": "code",
      "execution_count": 14,
      "metadata": {
        "id": "ecac5024",
        "colab": {
          "base_uri": "https://localhost:8080/"
        },
        "outputId": "dba43a6d-53bd-404a-e910-874a8ebc13fd"
      },
      "outputs": [
        {
          "output_type": "execute_result",
          "data": {
            "text/plain": [
              "33111"
            ]
          },
          "metadata": {},
          "execution_count": 14
        }
      ],
      "source": [
        "len(vectorizer.get_feature_names_out())"
      ],
      "id": "ecac5024"
    },
    {
      "cell_type": "markdown",
      "metadata": {
        "id": "64887568"
      },
      "source": [
        "## Logistic Regression"
      ],
      "id": "64887568"
    },
    {
      "cell_type": "code",
      "execution_count": 15,
      "metadata": {
        "id": "cs9UnqFBrHCo",
        "colab": {
          "base_uri": "https://localhost:8080/"
        },
        "outputId": "b5701612-ef1b-4d1e-ae4f-6edd7b7023c5"
      },
      "outputs": [
        {
          "output_type": "stream",
          "name": "stdout",
          "text": [
            "Using k=300 PCs:\n",
            "                         precision    recall  f1-score   support\n",
            "\n",
            "            accessories       0.75      0.71      0.73       896\n",
            "             appliances       0.82      0.83      0.82       911\n",
            "         bags & luggage       0.70      0.68      0.69       903\n",
            "        beauty & health       0.62      0.77      0.69       857\n",
            "        car & motorbike       0.75      0.80      0.77       864\n",
            "grocery & gourmet foods       0.81      0.80      0.81       610\n",
            "         home & kitchen       0.63      0.68      0.65       897\n",
            "    industrial supplies       0.68      0.64      0.66       824\n",
            "          kids' fashion       0.72      0.74      0.73       916\n",
            "         men's clothing       0.88      0.90      0.89       908\n",
            "            men's shoes       0.80      0.84      0.82       894\n",
            "                  music       0.88      0.66      0.75       207\n",
            "           pet supplies       0.90      0.85      0.87       285\n",
            "       sports & fitness       0.67      0.60      0.63       936\n",
            "                 stores       0.53      0.46      0.49       928\n",
            "   toys & baby products       0.83      0.77      0.80       935\n",
            "    tv, audio & cameras       0.83      0.85      0.84       869\n",
            "       women's clothing       0.84      0.90      0.87       906\n",
            "          women's shoes       0.90      0.93      0.91       885\n",
            "\n",
            "               accuracy                           0.76     15431\n",
            "              macro avg       0.77      0.76      0.76     15431\n",
            "           weighted avg       0.76      0.76      0.75     15431\n",
            "\n",
            "Using k=800 PCs:\n",
            "                         precision    recall  f1-score   support\n",
            "\n",
            "            accessories       0.75      0.72      0.74       896\n",
            "             appliances       0.89      0.89      0.89       911\n",
            "         bags & luggage       0.72      0.72      0.72       903\n",
            "        beauty & health       0.76      0.83      0.79       857\n",
            "        car & motorbike       0.81      0.84      0.82       864\n",
            "grocery & gourmet foods       0.87      0.86      0.87       610\n",
            "         home & kitchen       0.69      0.74      0.71       897\n",
            "    industrial supplies       0.76      0.72      0.74       824\n",
            "          kids' fashion       0.74      0.78      0.76       916\n",
            "         men's clothing       0.89      0.91      0.90       908\n",
            "            men's shoes       0.82      0.85      0.84       894\n",
            "                  music       0.91      0.72      0.81       207\n",
            "           pet supplies       0.91      0.89      0.90       285\n",
            "       sports & fitness       0.70      0.64      0.67       936\n",
            "                 stores       0.58      0.49      0.54       928\n",
            "   toys & baby products       0.83      0.82      0.82       935\n",
            "    tv, audio & cameras       0.86      0.87      0.87       869\n",
            "       women's clothing       0.85      0.91      0.88       906\n",
            "          women's shoes       0.91      0.93      0.92       885\n",
            "\n",
            "               accuracy                           0.79     15431\n",
            "              macro avg       0.80      0.80      0.80     15431\n",
            "           weighted avg       0.79      0.79      0.79     15431\n",
            "\n",
            "Using k=1300 PCs:\n",
            "                         precision    recall  f1-score   support\n",
            "\n",
            "            accessories       0.77      0.73      0.75       896\n",
            "             appliances       0.88      0.89      0.89       911\n",
            "         bags & luggage       0.72      0.76      0.74       903\n",
            "        beauty & health       0.79      0.81      0.80       857\n",
            "        car & motorbike       0.82      0.85      0.83       864\n",
            "grocery & gourmet foods       0.86      0.89      0.87       610\n",
            "         home & kitchen       0.71      0.74      0.72       897\n",
            "    industrial supplies       0.80      0.76      0.78       824\n",
            "          kids' fashion       0.75      0.76      0.76       916\n",
            "         men's clothing       0.91      0.92      0.92       908\n",
            "            men's shoes       0.83      0.85      0.84       894\n",
            "                  music       0.92      0.74      0.82       207\n",
            "           pet supplies       0.92      0.91      0.91       285\n",
            "       sports & fitness       0.72      0.65      0.68       936\n",
            "                 stores       0.56      0.53      0.55       928\n",
            "   toys & baby products       0.84      0.82      0.83       935\n",
            "    tv, audio & cameras       0.89      0.89      0.89       869\n",
            "       women's clothing       0.86      0.91      0.88       906\n",
            "          women's shoes       0.91      0.94      0.92       885\n",
            "\n",
            "               accuracy                           0.80     15431\n",
            "              macro avg       0.81      0.81      0.81     15431\n",
            "           weighted avg       0.80      0.80      0.80     15431\n",
            "\n"
          ]
        }
      ],
      "source": [
        "from sklearn.metrics import f1_score, classification_report\n",
        "\n",
        "k=5\n",
        "f1_scores = []\n",
        "\n",
        "for k in np.arange(300, 1500, 500):\n",
        "    # logistic regression with reduced-dimensional features\n",
        "    lr2_classifier = LogisticRegression(multi_class='multinomial', solver='lbfgs', penalty='none')\n",
        "    lr2_classifier.fit(u_train.iloc[:, :k], y_train)\n",
        "\n",
        "    # Test set accuracy:\n",
        "    lr2_predictions_test = lr2_classifier.predict(u_test.iloc[:, :k])\n",
        "    f1_test = f1_score(y_test, lr2_predictions_test, average='macro')\n",
        "\n",
        "    # Training set accuracy:\n",
        "    lr2_predictions_train = lr2_classifier.predict(u_train.iloc[:, :k])\n",
        "    f1_train = f1_score(y_train, lr2_predictions_train, average='macro')\n",
        "\n",
        "    f1_scores.append({'k': k, 'f1_test': f1_test, 'f1_train': f1_train})\n",
        "\n",
        "    print(f'Using k={k} PCs:')\n",
        "    lr2_report_test = classification_report(y_test, lr2_predictions_test)\n",
        "    print(lr2_report_test)"
      ],
      "id": "cs9UnqFBrHCo"
    },
    {
      "cell_type": "code",
      "source": [
        "df_f1 = pd.DataFrame(f1_scores)\n",
        "df_f1.plot(x='k')\n",
        "df_f1.plot(x='k', y='f1_test')"
      ],
      "metadata": {
        "id": "Db4aP52ai8f-",
        "colab": {
          "base_uri": "https://localhost:8080/",
          "height": 898
        },
        "outputId": "7c50c302-08dc-4d15-85a7-f31f55025be1"
      },
      "id": "Db4aP52ai8f-",
      "execution_count": 16,
      "outputs": [
        {
          "output_type": "execute_result",
          "data": {
            "text/plain": [
              "<Axes: xlabel='k'>"
            ]
          },
          "metadata": {},
          "execution_count": 16
        },
        {
          "output_type": "display_data",
          "data": {
            "text/plain": [
              "<Figure size 640x480 with 1 Axes>"
            ],
            "image/png": "[encoded data removed]"
          },
          "metadata": {}
        },
        {
          "output_type": "display_data",
          "data": {
            "text/plain": [
              "<Figure size 640x480 with 1 Axes>"
            ],
            "image/png": "[encoded data removed]"
          },
          "metadata": {}
        }
      ]
    },
    {
      "cell_type": "code",
      "source": [
        "\n",
        "# F1-Score (weighted average) for each model\n",
        "f1_score = [0.79, 0.76, 0.79, 0.80]\n",
        "models = ['Naive Bayes', 'Logistic Regression (k=300 PCs)', 'Logistic Regression (k=800 PCs)', 'Logistic Regression (k=1300 PCs)']\n",
        "\n",
        "plt.bar(models, f1_score)\n",
        "\n",
        "plt.xlabel('Models')\n",
        "plt.ylabel('F1-Score (Macro Avg)')\n",
        "plt.title('Comparison of F1-Score (Macro Avg) for Different Models')\n",
        "\n",
        "plt.xticks(rotation = 45)\n",
        "\n",
        "plt.show()"
      ],
      "metadata": {
        "id": "hyyZaY4IGSK5",
        "colab": {
          "base_uri": "https://localhost:8080/",
          "height": 632
        },
        "outputId": "19efcd2d-b037-475b-cb01-78cc8f3f324a"
      },
      "id": "hyyZaY4IGSK5",
      "execution_count": 17,
      "outputs": [
        {
          "output_type": "display_data",
          "data": {
            "text/plain": [
              "<Figure size 640x480 with 1 Axes>"
            ],
            "image/png": "[encoded data removed]"
          },
          "metadata": {}
        }
      ]
    },
    {
      "cell_type": "code",
      "source": [],
      "metadata": {
        "id": "WettA0mCKB5B"
      },
      "id": "WettA0mCKB5B",
      "execution_count": 17,
      "outputs": []
    }
  ],
  "metadata": {
    "colab": {
      "provenance": []
    },
    "kernelspec": {
      "display_name": "Python 3 (clean)",
      "language": "python",
      "name": "python3_clean"
    },
    "language_info": {
      "codemirror_mode": {
        "name": "ipython",
        "version": 3
      },
      "file_extension": ".py",
      "mimetype": "text/x-python",
      "name": "python",
      "nbconvert_exporter": "python",
      "pygments_lexer": "ipython3",
      "version": "3.9.5"
    }
  },
  "nbformat": 4,
  "nbformat_minor": 5
}