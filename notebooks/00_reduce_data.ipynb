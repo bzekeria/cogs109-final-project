{
  "cells": [
    {
      "cell_type": "markdown",
      "id": "4e8f4e0b",
      "metadata": {
        "id": "4e8f4e0b"
      },
      "source": [
        "# Reduce Data\n"
      ]
    },
    {
      "cell_type": "code",
      "execution_count": 9,
      "id": "7c9822f9",
      "metadata": {
        "id": "7c9822f9"
      },
      "outputs": [],
      "source": [
        "import pandas as pd\n",
        "import matplotlib as plt\n",
        "\n",
        "# notebook configurations\n",
        "pd.options.display.max_colwidth = 1000\n",
        "\n",
        "import warnings\n",
        "warnings.filterwarnings(\"ignore\")"
      ]
    },
    {
      "cell_type": "code",
      "execution_count": 10,
      "id": "c750077e",
      "metadata": {
        "colab": {
          "base_uri": "https://localhost:8080/"
        },
        "id": "c750077e",
        "outputId": "92d10be1-a67c-4fd0-a47e-0985fe7eec02"
      },
      "outputs": [
        {
          "output_type": "stream",
          "name": "stdout",
          "text": [
            "Drive already mounted at /content/drive; to attempt to forcibly remount, call drive.mount(\"/content/drive\", force_remount=True).\n"
          ]
        }
      ],
      "source": [
        "from google.colab import drive\n",
        "drive.mount('/content/drive')\n",
        "\n",
        "df = pd.read_csv(\"drive/MyDrive/COGS 109 Amazon Project/Data/amazon_products_raw.csv\")"
      ]
    },
    {
      "cell_type": "code",
      "execution_count": 11,
      "id": "d48952bc",
      "metadata": {
        "id": "d48952bc",
        "colab": {
          "base_uri": "https://localhost:8080/"
        },
        "outputId": "a80e93e1-1f14-480b-c351-978afbcfaca3"
      },
      "outputs": [
        {
          "output_type": "execute_result",
          "data": {
            "text/plain": [
              "(396210, 9)"
            ]
          },
          "metadata": {},
          "execution_count": 11
        }
      ],
      "source": [
        "\n",
        "df.shape"
      ]
    },
    {
      "cell_type": "code",
      "execution_count": 12,
      "id": "b46290d3",
      "metadata": {
        "colab": {
          "base_uri": "https://localhost:8080/"
        },
        "id": "b46290d3",
        "outputId": "a726b381-b19e-40f9-abf6-ec22ae70db6a"
      },
      "outputs": [
        {
          "output_type": "execute_result",
          "data": {
            "text/plain": [
              "array(['appliances', 'car & motorbike', 'tv, audio & cameras',\n",
              "       'sports & fitness', 'grocery & gourmet foods', 'home & kitchen',\n",
              "       'pet supplies', 'stores', 'toys & baby products', \"kids' fashion\",\n",
              "       'bags & luggage', 'accessories', \"women's shoes\",\n",
              "       'beauty & health', \"men's shoes\", \"women's clothing\",\n",
              "       'industrial supplies', \"men's clothing\", 'music',\n",
              "       'home, kitchen, pets'], dtype=object)"
            ]
          },
          "metadata": {},
          "execution_count": 12
        }
      ],
      "source": [
        "df[\"main_category\"].unique()"
      ]
    },
    {
      "cell_type": "code",
      "execution_count": 13,
      "id": "ea1cffff",
      "metadata": {
        "id": "ea1cffff",
        "colab": {
          "base_uri": "https://localhost:8080/"
        },
        "outputId": "2a468815-2d14-4b4c-f151-24b1ea8ea3d5"
      },
      "outputs": [
        {
          "output_type": "execute_result",
          "data": {
            "text/plain": [
              "19810.5"
            ]
          },
          "metadata": {},
          "execution_count": 13
        }
      ],
      "source": [
        "df[\"main_category\"].value_counts().mean()"
      ]
    },
    {
      "cell_type": "markdown",
      "source": [
        "Given that our dataset is 300K+ rows and is computational complex given our resources, we're emmploying a straitfied random sampling method to extract the respective rows from our data."
      ],
      "metadata": {
        "id": "TnT-XGfoRhTu"
      },
      "id": "TnT-XGfoRhTu"
    },
    {
      "cell_type": "code",
      "execution_count": 14,
      "id": "9047734d",
      "metadata": {
        "id": "9047734d"
      },
      "outputs": [],
      "source": [
        "# Group the dataset\n",
        "grouped = df.groupby(\"main_category\")\n",
        "\n",
        "# Sample size for each group\n",
        "sample_size = 4_500\n",
        "\n",
        "sampled_data = pd.DataFrame()\n",
        "\n",
        "# Iterate over each group, and perform sampling\n",
        "for group_name, group_df in grouped:\n",
        "    if len(group_df) >= sample_size:\n",
        "        # If the group has enough rows, sample the specified number of rows\n",
        "        sampled_rows = group_df.sample(n=sample_size)\n",
        "    else:\n",
        "        # If the group has fewer rows than the desired sample size, sample all rows\n",
        "        sampled_rows = group_df\n",
        "    sampled_data = pd.concat([sampled_data, sampled_rows])"
      ]
    },
    {
      "cell_type": "code",
      "execution_count": 15,
      "id": "e80cc140",
      "metadata": {
        "id": "e80cc140",
        "colab": {
          "base_uri": "https://localhost:8080/",
          "height": 820
        },
        "outputId": "6dcd7769-ba45-47c7-9c3e-4f6200e432a7"
      },
      "outputs": [
        {
          "output_type": "execute_result",
          "data": {
            "text/plain": [
              "                                                                                                                                 name  \\\n",
              "39269                                                            Amazon Brand - Solimo Polyester Duffel Gym Bag with Shoe Compartment   \n",
              "134976                  NAMDEV GEMS 7.25 Ratti / 6.45 Carat Ceylon White Sapphire/Safed Pukhraj 5.25 Ratti Certified Natural Gemstone   \n",
              "128082                         Mahi Valentine Gift Blue Crystals and Artificial Pearls Paisley Necklace Set for Women (NL1103769RBlu)   \n",
              "381411                                         NEUTRON Gift Analog White and Grey Color Dial Girls Watch - G462-(13-L-10) (Pack of 2)   \n",
              "168596  Fashion Girls Fashion Cute Stylish Leather Backpack and Sling Bag Set for Women, School & College Girls/Leather Bagpack Se...   \n",
              "...                                                                                                                               ...   \n",
              "313180                                                                                              Max Womens Su20wfba2001a Sneakers   \n",
              "49670                                                                               FASHIMO Stylish Bellies for Women's and Girls 723   \n",
              "313014                                                                                        Khadim's Women Black Casual Mule Sandal   \n",
              "312970                                                                                   Brauch Women's Stylish Suede Patterned Flats   \n",
              "139008                                                                                               STICY Women's Stylish Block Heel   \n",
              "\n",
              "        main_category                sub_category  \\\n",
              "39269     accessories              Bags & Luggage   \n",
              "134976    accessories  Fashion & Silver Jewellery   \n",
              "128082    accessories  Fashion & Silver Jewellery   \n",
              "381411    accessories                     Watches   \n",
              "168596    accessories         Handbags & Clutches   \n",
              "...               ...                         ...   \n",
              "313180  women's shoes                       Shoes   \n",
              "49670   women's shoes                  Ballerinas   \n",
              "313014  women's shoes                       Shoes   \n",
              "312970  women's shoes                       Shoes   \n",
              "139008  women's shoes             Fashion Sandals   \n",
              "\n",
              "                                                                                                   image  \\\n",
              "39269   https://m.media-amazon.com/images/W/IMAGERENDERING_521856-T2/images/I/91BdtB6z8uL._AC_UL320_.jpg   \n",
              "134976                                    https://m.media-amazon.com/images/I/61S2UNRgL1L._AC_UL320_.jpg   \n",
              "128082                                    https://m.media-amazon.com/images/I/61+MF9gLe7L._AC_UL320_.jpg   \n",
              "381411                                    https://m.media-amazon.com/images/I/71Z5WuoZrdL._AC_UL320_.jpg   \n",
              "168596                                    https://m.media-amazon.com/images/I/414WeHN8pAL._AC_UL320_.jpg   \n",
              "...                                                                                                  ...   \n",
              "313180                                    https://m.media-amazon.com/images/I/41+Wq8kCE8L._AC_UL320_.jpg   \n",
              "49670                                     https://m.media-amazon.com/images/I/718pK43EgpL._AC_UL320_.jpg   \n",
              "313014                                    https://m.media-amazon.com/images/I/51h4MhuHWfL._AC_UL320_.jpg   \n",
              "312970                                    https://m.media-amazon.com/images/I/71R+K5Joj5L._AC_UL320_.jpg   \n",
              "139008                                    https://m.media-amazon.com/images/I/51rQ4mNljKL._AC_UL320_.jpg   \n",
              "\n",
              "                                                                                                                                         link  \\\n",
              "39269            https://www.amazon.in/Amazon-Brand-Solimo-so_flingyrqba_4-Gym/dp/B084DPRRRR/ref=sr_1_7348?qid=1679144136&s=luggage&sr=1-7348   \n",
              "134976         https://www.amazon.in/NAMDEV-GEMS-Sapphire-Certified-Gemstone/dp/B07QZC211J/ref=sr_1_16303?qid=1679160512&s=jewelry&sr=1-16303   \n",
              "128082  https://www.amazon.in/Mahi-Valentine-Crystals-Artificial-NL1103769RBlu/dp/B08TRHMR2R/ref=sr_1_8741?qid=1679160240&s=jewelry&sr=1-8741   \n",
              "381411                https://www.amazon.in/NEUTRON-Analog-White-Color-Girls/dp/B0BMW3PJ8K/ref=sr_1_16147?qid=1679156199&s=watches&sr=1-16147   \n",
              "168596              https://www.amazon.in/Fashion-Stylish-Leather-Backpack-Bag/dp/B0BVZHHP2H/ref=sr_1_12041?qid=1679158994&s=shoes&sr=1-12041   \n",
              "...                                                                                                                                       ...   \n",
              "313180        https://www.amazon.in/Max-Womens-Black-Sandal-SU20WFBA2001ABLACK/dp/B09H2X7TDG/ref=sr_1_10268?qid=1679211574&s=shoes&sr=1-10268   \n",
              "49670                 https://www.amazon.in/FASHIMO-Stylish-Bellies-Womens-Girls/dp/B08WCDNTJR/ref=sr_1_2429?qid=1679211851&s=shoes&sr=1-2429   \n",
              "313014                   https://www.amazon.in/Khadims-Women-Black-Casual-Sandal/dp/B0BDVBSG58/ref=sr_1_7923?qid=1679211558&s=shoes&sr=1-7923   \n",
              "312970               https://www.amazon.in/Brauch-Womens-Black-Stylish-Patterned/dp/B08MYTPWX9/ref=sr_1_7540?qid=1679211554&s=shoes&sr=1-7540   \n",
              "139008             https://www.amazon.in/STICY-Womens-Stylish-PURPLE-numeric_5/dp/B0BSV59TNG/ref=sr_1_13702?qid=1679211779&s=shoes&sr=1-13702   \n",
              "\n",
              "       ratings no_of_ratings discount_price actual_price  \n",
              "39269      4.2           100           ₹549         ₹900  \n",
              "134976     3.9             3         ₹1,590       ₹5,999  \n",
              "128082     3.6            19           ₹300       ₹1,499  \n",
              "381411     NaN           NaN           ₹286         ₹699  \n",
              "168596     NaN           NaN            NaN          NaN  \n",
              "...        ...           ...            ...          ...  \n",
              "313180     4.0             1           ₹461         ₹599  \n",
              "49670      4.3             9           ₹599         ₹999  \n",
              "313014     NaN           NaN           ₹685         ₹699  \n",
              "312970     4.1            31           ₹299         ₹599  \n",
              "139008     NaN           NaN           ₹549         ₹999  \n",
              "\n",
              "[77184 rows x 9 columns]"
            ],
            "text/html": [
              "\n",
              "  <div id=\"df-a1c56265-f1db-4746-b90b-08607b503792\">\n",
              "    <div class=\"colab-df-container\">\n",
              "      <div>\n",
              "<style scoped>\n",
              "    .dataframe tbody tr th:only-of-type {\n",
              "        vertical-align: middle;\n",
              "    }\n",
              "\n",
              "    .dataframe tbody tr th {\n",
              "        vertical-align: top;\n",
              "    }\n",
              "\n",
              "    .dataframe thead th {\n",
              "        text-align: right;\n",
              "    }\n",
              "</style>\n",
              "<table border=\"1\" class=\"dataframe\">\n",
              "  <thead>\n",
              "    <tr style=\"text-align: right;\">\n",
              "      <th></th>\n",
              "      <th>name</th>\n",
              "      <th>main_category</th>\n",
              "      <th>sub_category</th>\n",
              "      <th>image</th>\n",
              "      <th>link</th>\n",
              "      <th>ratings</th>\n",
              "      <th>no_of_ratings</th>\n",
              "      <th>discount_price</th>\n",
              "      <th>actual_price</th>\n",
              "    </tr>\n",
              "  </thead>\n",
              "  <tbody>\n",
              "    <tr>\n",
              "      <th>39269</th>\n",
              "      <td>Amazon Brand - Solimo Polyester Duffel Gym Bag with Shoe Compartment</td>\n",
              "      <td>accessories</td>\n",
              "      <td>Bags &amp; Luggage</td>\n",
              "      <td>https://m.media-amazon.com/images/W/IMAGERENDERING_521856-T2/images/I/91BdtB6z8uL._AC_UL320_.jpg</td>\n",
              "      <td>https://www.amazon.in/Amazon-Brand-Solimo-so_flingyrqba_4-Gym/dp/B084DPRRRR/ref=sr_1_7348?qid=1679144136&amp;s=luggage&amp;sr=1-7348</td>\n",
              "      <td>4.2</td>\n",
              "      <td>100</td>\n",
              "      <td>₹549</td>\n",
              "      <td>₹900</td>\n",
              "    </tr>\n",
              "    <tr>\n",
              "      <th>134976</th>\n",
              "      <td>NAMDEV GEMS 7.25 Ratti / 6.45 Carat Ceylon White Sapphire/Safed Pukhraj 5.25 Ratti Certified Natural Gemstone</td>\n",
              "      <td>accessories</td>\n",
              "      <td>Fashion &amp; Silver Jewellery</td>\n",
              "      <td>https://m.media-amazon.com/images/I/61S2UNRgL1L._AC_UL320_.jpg</td>\n",
              "      <td>https://www.amazon.in/NAMDEV-GEMS-Sapphire-Certified-Gemstone/dp/B07QZC211J/ref=sr_1_16303?qid=1679160512&amp;s=jewelry&amp;sr=1-16303</td>\n",
              "      <td>3.9</td>\n",
              "      <td>3</td>\n",
              "      <td>₹1,590</td>\n",
              "      <td>₹5,999</td>\n",
              "    </tr>\n",
              "    <tr>\n",
              "      <th>128082</th>\n",
              "      <td>Mahi Valentine Gift Blue Crystals and Artificial Pearls Paisley Necklace Set for Women (NL1103769RBlu)</td>\n",
              "      <td>accessories</td>\n",
              "      <td>Fashion &amp; Silver Jewellery</td>\n",
              "      <td>https://m.media-amazon.com/images/I/61+MF9gLe7L._AC_UL320_.jpg</td>\n",
              "      <td>https://www.amazon.in/Mahi-Valentine-Crystals-Artificial-NL1103769RBlu/dp/B08TRHMR2R/ref=sr_1_8741?qid=1679160240&amp;s=jewelry&amp;sr=1-8741</td>\n",
              "      <td>3.6</td>\n",
              "      <td>19</td>\n",
              "      <td>₹300</td>\n",
              "      <td>₹1,499</td>\n",
              "    </tr>\n",
              "    <tr>\n",
              "      <th>381411</th>\n",
              "      <td>NEUTRON Gift Analog White and Grey Color Dial Girls Watch - G462-(13-L-10) (Pack of 2)</td>\n",
              "      <td>accessories</td>\n",
              "      <td>Watches</td>\n",
              "      <td>https://m.media-amazon.com/images/I/71Z5WuoZrdL._AC_UL320_.jpg</td>\n",
              "      <td>https://www.amazon.in/NEUTRON-Analog-White-Color-Girls/dp/B0BMW3PJ8K/ref=sr_1_16147?qid=1679156199&amp;s=watches&amp;sr=1-16147</td>\n",
              "      <td>NaN</td>\n",
              "      <td>NaN</td>\n",
              "      <td>₹286</td>\n",
              "      <td>₹699</td>\n",
              "    </tr>\n",
              "    <tr>\n",
              "      <th>168596</th>\n",
              "      <td>Fashion Girls Fashion Cute Stylish Leather Backpack and Sling Bag Set for Women, School &amp; College Girls/Leather Bagpack Se...</td>\n",
              "      <td>accessories</td>\n",
              "      <td>Handbags &amp; Clutches</td>\n",
              "      <td>https://m.media-amazon.com/images/I/414WeHN8pAL._AC_UL320_.jpg</td>\n",
              "      <td>https://www.amazon.in/Fashion-Stylish-Leather-Backpack-Bag/dp/B0BVZHHP2H/ref=sr_1_12041?qid=1679158994&amp;s=shoes&amp;sr=1-12041</td>\n",
              "      <td>NaN</td>\n",
              "      <td>NaN</td>\n",
              "      <td>NaN</td>\n",
              "      <td>NaN</td>\n",
              "    </tr>\n",
              "    <tr>\n",
              "      <th>...</th>\n",
              "      <td>...</td>\n",
              "      <td>...</td>\n",
              "      <td>...</td>\n",
              "      <td>...</td>\n",
              "      <td>...</td>\n",
              "      <td>...</td>\n",
              "      <td>...</td>\n",
              "      <td>...</td>\n",
              "      <td>...</td>\n",
              "    </tr>\n",
              "    <tr>\n",
              "      <th>313180</th>\n",
              "      <td>Max Womens Su20wfba2001a Sneakers</td>\n",
              "      <td>women's shoes</td>\n",
              "      <td>Shoes</td>\n",
              "      <td>https://m.media-amazon.com/images/I/41+Wq8kCE8L._AC_UL320_.jpg</td>\n",
              "      <td>https://www.amazon.in/Max-Womens-Black-Sandal-SU20WFBA2001ABLACK/dp/B09H2X7TDG/ref=sr_1_10268?qid=1679211574&amp;s=shoes&amp;sr=1-10268</td>\n",
              "      <td>4.0</td>\n",
              "      <td>1</td>\n",
              "      <td>₹461</td>\n",
              "      <td>₹599</td>\n",
              "    </tr>\n",
              "    <tr>\n",
              "      <th>49670</th>\n",
              "      <td>FASHIMO Stylish Bellies for Women's and Girls 723</td>\n",
              "      <td>women's shoes</td>\n",
              "      <td>Ballerinas</td>\n",
              "      <td>https://m.media-amazon.com/images/I/718pK43EgpL._AC_UL320_.jpg</td>\n",
              "      <td>https://www.amazon.in/FASHIMO-Stylish-Bellies-Womens-Girls/dp/B08WCDNTJR/ref=sr_1_2429?qid=1679211851&amp;s=shoes&amp;sr=1-2429</td>\n",
              "      <td>4.3</td>\n",
              "      <td>9</td>\n",
              "      <td>₹599</td>\n",
              "      <td>₹999</td>\n",
              "    </tr>\n",
              "    <tr>\n",
              "      <th>313014</th>\n",
              "      <td>Khadim's Women Black Casual Mule Sandal</td>\n",
              "      <td>women's shoes</td>\n",
              "      <td>Shoes</td>\n",
              "      <td>https://m.media-amazon.com/images/I/51h4MhuHWfL._AC_UL320_.jpg</td>\n",
              "      <td>https://www.amazon.in/Khadims-Women-Black-Casual-Sandal/dp/B0BDVBSG58/ref=sr_1_7923?qid=1679211558&amp;s=shoes&amp;sr=1-7923</td>\n",
              "      <td>NaN</td>\n",
              "      <td>NaN</td>\n",
              "      <td>₹685</td>\n",
              "      <td>₹699</td>\n",
              "    </tr>\n",
              "    <tr>\n",
              "      <th>312970</th>\n",
              "      <td>Brauch Women's Stylish Suede Patterned Flats</td>\n",
              "      <td>women's shoes</td>\n",
              "      <td>Shoes</td>\n",
              "      <td>https://m.media-amazon.com/images/I/71R+K5Joj5L._AC_UL320_.jpg</td>\n",
              "      <td>https://www.amazon.in/Brauch-Womens-Black-Stylish-Patterned/dp/B08MYTPWX9/ref=sr_1_7540?qid=1679211554&amp;s=shoes&amp;sr=1-7540</td>\n",
              "      <td>4.1</td>\n",
              "      <td>31</td>\n",
              "      <td>₹299</td>\n",
              "      <td>₹599</td>\n",
              "    </tr>\n",
              "    <tr>\n",
              "      <th>139008</th>\n",
              "      <td>STICY Women's Stylish Block Heel</td>\n",
              "      <td>women's shoes</td>\n",
              "      <td>Fashion Sandals</td>\n",
              "      <td>https://m.media-amazon.com/images/I/51rQ4mNljKL._AC_UL320_.jpg</td>\n",
              "      <td>https://www.amazon.in/STICY-Womens-Stylish-PURPLE-numeric_5/dp/B0BSV59TNG/ref=sr_1_13702?qid=1679211779&amp;s=shoes&amp;sr=1-13702</td>\n",
              "      <td>NaN</td>\n",
              "      <td>NaN</td>\n",
              "      <td>₹549</td>\n",
              "      <td>₹999</td>\n",
              "    </tr>\n",
              "  </tbody>\n",
              "</table>\n",
              "<p>77184 rows × 9 columns</p>\n",
              "</div>\n",
              "      <button class=\"colab-df-convert\" onclick=\"convertToInteractive('df-a1c56265-f1db-4746-b90b-08607b503792')\"\n",
              "              title=\"Convert this dataframe to an interactive table.\"\n",
              "              style=\"display:none;\">\n",
              "        \n",
              "  <svg xmlns=\"http://www.w3.org/2000/svg\" height=\"24px\"viewBox=\"0 0 24 24\"\n",
              "       width=\"24px\">\n",
              "    <path d=\"M0 0h24v24H0V0z\" fill=\"none\"/>\n",
              "    <path d=\"M18.56 5.44l.94 2.06.94-2.06 2.06-.94-2.06-.94-.94-2.06-.94 2.06-2.06.94zm-11 1L8.5 8.5l.94-2.06 2.06-.94-2.06-.94L8.5 2.5l-.94 2.06-2.06.94zm10 10l.94 2.06.94-2.06 2.06-.94-2.06-.94-.94-2.06-.94 2.06-2.06.94z\"/><path d=\"M17.41 7.96l-1.37-1.37c-.4-.4-.92-.59-1.43-.59-.52 0-1.04.2-1.43.59L10.3 9.45l-7.72 7.72c-.78.78-.78 2.05 0 2.83L4 21.41c.39.39.9.59 1.41.59.51 0 1.02-.2 1.41-.59l7.78-7.78 2.81-2.81c.8-.78.8-2.07 0-2.86zM5.41 20L4 18.59l7.72-7.72 1.47 1.35L5.41 20z\"/>\n",
              "  </svg>\n",
              "      </button>\n",
              "      \n",
              "  <style>\n",
              "    .colab-df-container {\n",
              "      display:flex;\n",
              "      flex-wrap:wrap;\n",
              "      gap: 12px;\n",
              "    }\n",
              "\n",
              "    .colab-df-convert {\n",
              "      background-color: #E8F0FE;\n",
              "      border: none;\n",
              "      border-radius: 50%;\n",
              "      cursor: pointer;\n",
              "      display: none;\n",
              "      fill: #1967D2;\n",
              "      height: 32px;\n",
              "      padding: 0 0 0 0;\n",
              "      width: 32px;\n",
              "    }\n",
              "\n",
              "    .colab-df-convert:hover {\n",
              "      background-color: #E2EBFA;\n",
              "      box-shadow: 0px 1px 2px rgba(60, 64, 67, 0.3), 0px 1px 3px 1px rgba(60, 64, 67, 0.15);\n",
              "      fill: #174EA6;\n",
              "    }\n",
              "\n",
              "    [theme=dark] .colab-df-convert {\n",
              "      background-color: #3B4455;\n",
              "      fill: #D2E3FC;\n",
              "    }\n",
              "\n",
              "    [theme=dark] .colab-df-convert:hover {\n",
              "      background-color: #434B5C;\n",
              "      box-shadow: 0px 1px 3px 1px rgba(0, 0, 0, 0.15);\n",
              "      filter: drop-shadow(0px 1px 2px rgba(0, 0, 0, 0.3));\n",
              "      fill: #FFFFFF;\n",
              "    }\n",
              "  </style>\n",
              "\n",
              "      <script>\n",
              "        const buttonEl =\n",
              "          document.querySelector('#df-a1c56265-f1db-4746-b90b-08607b503792 button.colab-df-convert');\n",
              "        buttonEl.style.display =\n",
              "          google.colab.kernel.accessAllowed ? 'block' : 'none';\n",
              "\n",
              "        async function convertToInteractive(key) {\n",
              "          const element = document.querySelector('#df-a1c56265-f1db-4746-b90b-08607b503792');\n",
              "          const dataTable =\n",
              "            await google.colab.kernel.invokeFunction('convertToInteractive',\n",
              "                                                     [key], {});\n",
              "          if (!dataTable) return;\n",
              "\n",
              "          const docLinkHtml = 'Like what you see? Visit the ' +\n",
              "            '<a target=\"_blank\" href=https://colab.research.google.com/notebooks/data_table.ipynb>data table notebook</a>'\n",
              "            + ' to learn more about interactive tables.';\n",
              "          element.innerHTML = '';\n",
              "          dataTable['output_type'] = 'display_data';\n",
              "          await google.colab.output.renderOutput(dataTable, element);\n",
              "          const docLink = document.createElement('div');\n",
              "          docLink.innerHTML = docLinkHtml;\n",
              "          element.appendChild(docLink);\n",
              "        }\n",
              "      </script>\n",
              "    </div>\n",
              "  </div>\n",
              "  "
            ]
          },
          "metadata": {},
          "execution_count": 15
        }
      ],
      "source": [
        "sampled_data"
      ]
    },
    {
      "cell_type": "code",
      "execution_count": 16,
      "id": "2e723fe4",
      "metadata": {
        "id": "2e723fe4"
      },
      "outputs": [],
      "source": [
        "sampled_data.to_csv(\"drive/MyDrive/COGS 109 Amazon Project/Data/amazon_products_sampled_raw.csv\", index = False)"
      ]
    }
  ],
  "metadata": {
    "kernelspec": {
      "display_name": "Python 3 (ipykernel)",
      "language": "python",
      "name": "python3"
    },
    "language_info": {
      "codemirror_mode": {
        "name": "ipython",
        "version": 3
      },
      "file_extension": ".py",
      "mimetype": "text/x-python",
      "name": "python",
      "nbconvert_exporter": "python",
      "pygments_lexer": "ipython3",
      "version": "3.9.5"
    },
    "colab": {
      "provenance": []
    }
  },
  "nbformat": 4,
  "nbformat_minor": 5
}