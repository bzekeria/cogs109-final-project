{
 "cells": [
  {
   "cell_type": "markdown",
   "id": "694a4a58",
   "metadata": {},
   "source": [
    "# Feature Engineering\n",
    "\n",
    "*once the data is processed, change the file name to the cleaned one*"
   ]
  },
  {
   "cell_type": "code",
   "execution_count": 1,
   "id": "e627b063",
   "metadata": {},
   "outputs": [],
   "source": [
    "import pandas as pd\n",
    "import numpy as np\n",
    "import matplotlib.pyplot as plt\n",
    "%matplotlib inline\n",
    "import scipy.stats as stats\n",
    "\n",
    "import nltk\n",
    "from nltk.corpus import stopwords\n",
    "stop_words = set(stopwords.words(\"english\"))\n",
    "\n",
    "# notebook configurations\n",
    "pd.options.display.max_colwidth = 1000\n",
    "\n",
    "import warnings\n",
    "warnings.filterwarnings(\"ignore\")"
   ]
  },
  {
   "cell_type": "code",
   "execution_count": 2,
   "id": "c94e0e04",
   "metadata": {},
   "outputs": [
    {
     "data": {
      "text/html": [
       "<div>\n",
       "<style scoped>\n",
       "    .dataframe tbody tr th:only-of-type {\n",
       "        vertical-align: middle;\n",
       "    }\n",
       "\n",
       "    .dataframe tbody tr th {\n",
       "        vertical-align: top;\n",
       "    }\n",
       "\n",
       "    .dataframe thead th {\n",
       "        text-align: right;\n",
       "    }\n",
       "</style>\n",
       "<table border=\"1\" class=\"dataframe\">\n",
       "  <thead>\n",
       "    <tr style=\"text-align: right;\">\n",
       "      <th></th>\n",
       "      <th>name</th>\n",
       "      <th>main_category</th>\n",
       "      <th>sub_category</th>\n",
       "      <th>image</th>\n",
       "      <th>link</th>\n",
       "      <th>ratings</th>\n",
       "      <th>no_of_ratings</th>\n",
       "      <th>discount_price</th>\n",
       "      <th>actual_price</th>\n",
       "    </tr>\n",
       "  </thead>\n",
       "  <tbody>\n",
       "    <tr>\n",
       "      <th>15400</th>\n",
       "      <td>NAMDEV GEMS 5.25 Ratti / 4.75 Carat Yellow Sapphire Gemstone Unheated Untreated Certified Natural Pukhraj Stone</td>\n",
       "      <td>accessories</td>\n",
       "      <td>Jewellery</td>\n",
       "      <td>https://m.media-amazon.com/images/I/61JcNhjGqyL._AC_UL320_.jpg</td>\n",
       "      <td>https://www.amazon.in/NAMDEV-GEMS-Sapphire-Untreated-Certified/dp/B07QT7Z59N/ref=sr_1_17641?qid=1679145749&amp;s=jewelry&amp;sr=1-17641</td>\n",
       "      <td>3.5</td>\n",
       "      <td>4</td>\n",
       "      <td>₹499</td>\n",
       "      <td>₹5,999</td>\n",
       "    </tr>\n",
       "  </tbody>\n",
       "</table>\n",
       "</div>"
      ],
      "text/plain": [
       "                                                                                                                  name  \\\n",
       "15400  NAMDEV GEMS 5.25 Ratti / 4.75 Carat Yellow Sapphire Gemstone Unheated Untreated Certified Natural Pukhraj Stone   \n",
       "\n",
       "      main_category sub_category  \\\n",
       "15400   accessories    Jewellery   \n",
       "\n",
       "                                                                image  \\\n",
       "15400  https://m.media-amazon.com/images/I/61JcNhjGqyL._AC_UL320_.jpg   \n",
       "\n",
       "                                                                                                                                  link  \\\n",
       "15400  https://www.amazon.in/NAMDEV-GEMS-Sapphire-Untreated-Certified/dp/B07QT7Z59N/ref=sr_1_17641?qid=1679145749&s=jewelry&sr=1-17641   \n",
       "\n",
       "      ratings no_of_ratings discount_price actual_price  \n",
       "15400     3.5             4           ₹499       ₹5,999  "
      ]
     },
     "execution_count": 2,
     "metadata": {},
     "output_type": "execute_result"
    }
   ],
   "source": [
    "df = pd.read_csv(\"data/amazon_products_sampled_raw.csv\")\n",
    "df.sample()"
   ]
  },
  {
   "cell_type": "markdown",
   "id": "1eaaebb6",
   "metadata": {},
   "source": [
    "## Text Features"
   ]
  },
  {
   "cell_type": "code",
   "execution_count": 3,
   "id": "0978ed59",
   "metadata": {},
   "outputs": [],
   "source": [
    "df[\"word_count\"] = df[\"name\"].apply(lambda x: len(str(x).split()))"
   ]
  },
  {
   "cell_type": "code",
   "execution_count": 4,
   "id": "8b11acc5",
   "metadata": {},
   "outputs": [],
   "source": [
    "df[\"char_count\"] = df[\"name\"].apply(lambda x: len(str(x)))"
   ]
  },
  {
   "cell_type": "code",
   "execution_count": 5,
   "id": "9bc1acfc",
   "metadata": {},
   "outputs": [],
   "source": [
    "# think of other stuff?"
   ]
  },
  {
   "cell_type": "markdown",
   "id": "7238f16a",
   "metadata": {},
   "source": [
    "## Numerical Features"
   ]
  },
  {
   "cell_type": "code",
   "execution_count": 6,
   "id": "17d5f1ba",
   "metadata": {},
   "outputs": [],
   "source": [
    "# this will already be taken care of in the clean file but for now leave this here\n",
    "df[\"ratings\"] = pd.to_numeric(df[\"ratings\"], errors = \"coerce\")\n",
    "df[\"no_of_ratings\"] = pd.to_numeric(df[\"no_of_ratings\"], errors = \"coerce\")"
   ]
  },
  {
   "cell_type": "code",
   "execution_count": 7,
   "id": "47e09d9d",
   "metadata": {},
   "outputs": [
    {
     "name": "stdout",
     "output_type": "stream",
     "text": [
      "<class 'pandas.core.frame.DataFrame'>\n",
      "RangeIndex: 217662 entries, 0 to 217661\n",
      "Data columns (total 11 columns):\n",
      " #   Column          Non-Null Count   Dtype  \n",
      "---  ------          --------------   -----  \n",
      " 0   name            217662 non-null  object \n",
      " 1   main_category   217662 non-null  object \n",
      " 2   sub_category    217662 non-null  object \n",
      " 3   image           217662 non-null  object \n",
      " 4   link            217662 non-null  object \n",
      " 5   ratings         147988 non-null  float64\n",
      " 6   no_of_ratings   135261 non-null  float64\n",
      " 7   discount_price  189546 non-null  object \n",
      " 8   actual_price    211088 non-null  object \n",
      " 9   word_count      217662 non-null  int64  \n",
      " 10  char_count      217662 non-null  int64  \n",
      "dtypes: float64(2), int64(2), object(7)\n",
      "memory usage: 18.3+ MB\n"
     ]
    }
   ],
   "source": [
    "df.info()"
   ]
  },
  {
   "cell_type": "code",
   "execution_count": 8,
   "id": "ca22516a",
   "metadata": {},
   "outputs": [],
   "source": [
    "df[\"mean_rating\"] = df.groupby(\"main_category\")[\"ratings\"].transform(\"mean\")"
   ]
  },
  {
   "cell_type": "code",
   "execution_count": 9,
   "id": "1fe9a336",
   "metadata": {},
   "outputs": [],
   "source": [
    "df[\"rating_variance\"] = df.groupby(\"main_category\")[\"ratings\"].transform(\"var\")"
   ]
  },
  {
   "cell_type": "code",
   "execution_count": 10,
   "id": "16bda9be",
   "metadata": {},
   "outputs": [],
   "source": [
    "df[\"positive_negative_ratio\"] = df.groupby(\"main_category\")[\"ratings\"].apply(lambda x: (x.fillna(-1).replace(np.inf, -1).astype(int) > 3).sum() / len(x) if len(x) > 0 else 0).fillna(0)"
   ]
  },
  {
   "cell_type": "markdown",
   "id": "9249ddd9",
   "metadata": {},
   "source": [
    "> The positive-negative ratio, calculated based on ratings, provides insights into the balance of positive and negative ratings in the dataset. It can be expressed as:\n",
    "$$\n",
    "\\text{Positive-Nagative Ratio} = \\frac{{\\text{Number of Positive Ratings}}}{{\\text{Number of Negative Ratings}}}$$\n",
    "The positive-negative ratio helps assess the distribution of ratings and its impact on classifying product categories. A high ratio indicates a predominance of positive ratings, potentially biasing the model towards positive categories. Conversely, a low ratio suggests a higher proportion of negative ratings, which may affect the model's accuracy in classifying positive categories."
   ]
  },
  {
   "cell_type": "markdown",
   "id": "34d4e41d",
   "metadata": {},
   "source": [
    "Let's check for imbalance in the ratio.\n",
    "\n",
    ">Checking for imbalance in the positive and negative ratings allows for identification of potential biases and helps ensure fair representation in the classification of product categories."
   ]
  },
  {
   "cell_type": "code",
   "execution_count": 11,
   "id": "305862fe",
   "metadata": {},
   "outputs": [
    {
     "data": {
      "text/plain": [
       "Series([], Name: positive_negative_ratio, dtype: float64)"
      ]
     },
     "execution_count": 11,
     "metadata": {},
     "output_type": "execute_result"
    }
   ],
   "source": [
    "df[\"positive_negative_ratio\"][df[\"positive_negative_ratio\"].notnull()]"
   ]
  },
  {
   "cell_type": "code",
   "execution_count": 12,
   "id": "03ad29c2",
   "metadata": {},
   "outputs": [
    {
     "data": {
      "text/plain": [
       "0        NaN\n",
       "1        NaN\n",
       "2        NaN\n",
       "3        NaN\n",
       "4        NaN\n",
       "          ..\n",
       "217657   NaN\n",
       "217658   NaN\n",
       "217659   NaN\n",
       "217660   NaN\n",
       "217661   NaN\n",
       "Name: positive_negative_ratio, Length: 217662, dtype: float64"
      ]
     },
     "execution_count": 12,
     "metadata": {},
     "output_type": "execute_result"
    }
   ],
   "source": [
    "imbalance_ratio = df['positive_negative_ratio']\n",
    "imbalance_ratio"
   ]
  },
  {
   "cell_type": "code",
   "execution_count": 13,
   "id": "8d4cbbbc",
   "metadata": {},
   "outputs": [
    {
     "data": {
      "image/png": "[encoded data removed]",
      "text/plain": [
       "<Figure size 432x288 with 1 Axes>"
      ]
     },
     "metadata": {
      "needs_background": "light"
     },
     "output_type": "display_data"
    }
   ],
   "source": [
    "df2 = df.copy()\n",
    "positive_negative_ratio_data = df2['positive_negative_ratio'].dropna()\n",
    "\n",
    "# Plot a histogram\n",
    "plt.hist(positive_negative_ratio_data, bins=20, density=True)\n",
    "plt.xlabel('Positive-Negative Ratio')\n",
    "plt.ylabel('Frequency')\n",
    "plt.title('Histogram of Positive-Negative Ratio')\n",
    "\n",
    "# Plot a probability plot (also known as a Q-Q plot)\n",
    "stats.probplot(positive_negative_ratio_data, plot=plt)\n",
    "\n",
    "plt.show()"
   ]
  },
  {
   "cell_type": "code",
   "execution_count": 14,
   "id": "bf633949",
   "metadata": {},
   "outputs": [],
   "source": [
    "#... means its all null values? weird fix later"
   ]
  }
 ],
 "metadata": {
  "kernelspec": {
   "display_name": "Python 3 (clean)",
   "language": "python",
   "name": "python3_clean"
  },
  "language_info": {
   "codemirror_mode": {
    "name": "ipython",
    "version": 3
   },
   "file_extension": ".py",
   "mimetype": "text/x-python",
   "name": "python",
   "nbconvert_exporter": "python",
   "pygments_lexer": "ipython3",
   "version": "3.9.5"
  }
 },
 "nbformat": 4,
 "nbformat_minor": 5
}
